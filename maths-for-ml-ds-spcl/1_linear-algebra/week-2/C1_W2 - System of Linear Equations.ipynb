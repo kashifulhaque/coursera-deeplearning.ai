{
 "cells": [
  {
   "cell_type": "markdown",
   "id": "58bb5f2a",
   "metadata": {},
   "source": [
    "## **System of Linear Equations**"
   ]
  },
  {
   "cell_type": "markdown",
   "id": "7e15c96a",
   "metadata": {},
   "source": [
    "### **Packages**"
   ]
  },
  {
   "cell_type": "code",
   "execution_count": 10,
   "id": "ece74015",
   "metadata": {},
   "outputs": [],
   "source": [
    "import numpy as np\n",
    "\n",
    "import w2_unittest"
   ]
  },
  {
   "cell_type": "markdown",
   "id": "4219c5e2",
   "metadata": {},
   "source": [
    "### **System of linear equations and corresponding `numpy` arrays**\n",
    "\n",
    "Represent the following system of equations\n",
    "$$\\begin{cases} \n",
    "2x_1-x_2+x_3+x_4=6, \\\\ x_1+2x_2-x_3-x_4=3, \\\\ -x_1+2x_2+2x_3+2x_4=14, \\\\ x_1-x_2+2x_3+x_4=8, \\end{cases}\\tag{1}$$"
   ]
  },
  {
   "cell_type": "code",
   "execution_count": 11,
   "id": "7027dd69",
   "metadata": {},
   "outputs": [],
   "source": [
    "A = np.array([\n",
    "    [2, -1, 1, 1],\n",
    "    [1, 2, -1, -1],\n",
    "    [-1, 2, 2, 2],\n",
    "    [1, -1, 2, 1]\n",
    "], dtype = np.dtype(float))\n",
    "b = np.array([6, 3, 14, 8], dtype = np.dtype(float))"
   ]
  },
  {
   "cell_type": "code",
   "execution_count": 12,
   "id": "400a6152",
   "metadata": {},
   "outputs": [
    {
     "name": "stdout",
     "output_type": "stream",
     "text": [
      "\u001b[92m All tests passed\n"
     ]
    }
   ],
   "source": [
    "w2_unittest.test_matrix(A, b)"
   ]
  },
  {
   "cell_type": "markdown",
   "id": "e67a5247",
   "metadata": {},
   "source": [
    "- Find determinant of matrix $A$\n",
    "- Find solution vector $x$ for the system of equations"
   ]
  },
  {
   "cell_type": "code",
   "execution_count": 13,
   "id": "cb54a8ce",
   "metadata": {},
   "outputs": [],
   "source": [
    "det_A = np.linalg.det(A)\n",
    "x = np.linalg.solve(A, b)"
   ]
  },
  {
   "cell_type": "code",
   "execution_count": 14,
   "id": "1b5ac5d1",
   "metadata": {},
   "outputs": [
    {
     "name": "stdout",
     "output_type": "stream",
     "text": [
      "\u001b[92m All tests passed\n"
     ]
    }
   ],
   "source": [
    "w2_unittest.test_det_and_solution_scipy(det_A, x)"
   ]
  },
  {
   "cell_type": "markdown",
   "id": "651fa99c",
   "metadata": {},
   "source": [
    "### **Elementary operations and Row reductions**"
   ]
  },
  {
   "cell_type": "code",
   "execution_count": 15,
   "id": "c52ed07e",
   "metadata": {},
   "outputs": [],
   "source": [
    "def multiply_row(M, row_num, multiple):\n",
    "    M_ref = M.copy()\n",
    "    if multiple != 0:\n",
    "        M_ref[row_num] = M_ref[row_num] * multiple\n",
    "\n",
    "    return M_ref"
   ]
  },
  {
   "cell_type": "code",
   "execution_count": 16,
   "id": "51a31010",
   "metadata": {},
   "outputs": [],
   "source": [
    "def add_rows(M, row_num_1, row_num_2, multiple):\n",
    "    M_ref = M.copy()\n",
    "    M_ref[row_num_2] = multiple * M_ref[row_num_1] + M_ref[row_num_2]\n",
    "    \n",
    "    return M_ref"
   ]
  },
  {
   "cell_type": "code",
   "execution_count": 17,
   "id": "8b3e9b52",
   "metadata": {},
   "outputs": [],
   "source": [
    "def swap_rows(M, row_num_1, row_num_2):\n",
    "    M_ref = M.copy()\n",
    "    M_ref[[row_num_1, row_num_2]] = M_ref[[row_num_2, row_num_1]]\n",
    "    \n",
    "    return M_ref"
   ]
  },
  {
   "cell_type": "code",
   "execution_count": 18,
   "id": "bf80a8ad",
   "metadata": {},
   "outputs": [
    {
     "name": "stdout",
     "output_type": "stream",
     "text": [
      "\u001b[92m All tests passed\n"
     ]
    }
   ],
   "source": [
    "w2_unittest.test_elementary_operations(multiply_row, add_rows, swap_rows)"
   ]
  },
  {
   "cell_type": "markdown",
   "id": "d10dc327",
   "metadata": {},
   "source": [
    "- Apply elementary operations to matrix $A$, perform row reduction"
   ]
  },
  {
   "cell_type": "code",
   "execution_count": 19,
   "id": "641c36e6",
   "metadata": {},
   "outputs": [],
   "source": [
    "def augmented_to_ref(A, b):\n",
    "    A_system = np.hstack((A, b.reshape(4, 1)))\n",
    "    \n",
    "    # swap row 0 and row 1 of matrix A_system (remember that indexing in NumPy array starts from 0)\n",
    "    A_ref = swap_rows(A_system, 0, 1)\n",
    "    \n",
    "    # multiply row 0 of the new matrix A_ref by -2 and add it to the row 1\n",
    "    A_ref = add_rows(A_ref, 0, 1, -2)\n",
    "    \n",
    "    # add row 0 of the new matrix A_ref to the row 2, replacing row 2\n",
    "    A_ref = add_rows(A_ref, 0, 2, 1)\n",
    "    \n",
    "    # multiply row 0 of the new matrix A_ref by -1 and add it to the row 3\n",
    "    A_ref = add_rows(A_ref, 0, 3, -1)\n",
    "    \n",
    "    # add row 2 of the new matrix A_ref to the row 3, replacing row 3\n",
    "    A_ref = add_rows(A_ref, 2, 3, 1)\n",
    "    \n",
    "    # swap row 1 and 3 of the new matrix A_ref\n",
    "    A_ref = swap_rows(A_ref, 1, 3)\n",
    "    \n",
    "    # add row 2 of the new matrix A_ref to the row 3, replacing row 3\n",
    "    A_ref = add_rows(A_ref, 2, 3, 1)\n",
    "    \n",
    "    # multiply row 1 of the new matrix A_ref by -4 and add it to the row 2\n",
    "    A_ref = add_rows(A_ref, 1, 2, -4)\n",
    "    \n",
    "    # add row 1 of the new matrix A_ref to the row 3, replacing row 3\n",
    "    A_ref = add_rows(A_ref, 1, 3, 1)\n",
    "    \n",
    "    # multiply row 3 of the new matrix A_ref by 2 and add it to the row 2\n",
    "    A_ref = add_rows(A_ref, 3, 2, 2)\n",
    "    \n",
    "    # multiply row 2 of the new matrix A_ref by -8 and add it to the row 3\n",
    "    A_ref = add_rows(A_ref, 2, 3, -8)\n",
    "    \n",
    "    # multiply row 3 of the new matrix A_ref by -1/17\n",
    "    A_ref = multiply_row(A_ref, 3, -1/17)\n",
    "    \n",
    "    return A_ref"
   ]
  },
  {
   "cell_type": "code",
   "execution_count": 20,
   "id": "4b02b362",
   "metadata": {},
   "outputs": [],
   "source": [
    "A_ref = augmented_to_ref(A, b)"
   ]
  },
  {
   "cell_type": "code",
   "execution_count": 21,
   "id": "2dd96784",
   "metadata": {},
   "outputs": [
    {
     "name": "stdout",
     "output_type": "stream",
     "text": [
      "\u001b[92m All tests passed\n"
     ]
    }
   ],
   "source": [
    "w2_unittest.test_augmented_to_ref(augmented_to_ref)"
   ]
  },
  {
   "cell_type": "code",
   "execution_count": 22,
   "id": "1828d23b",
   "metadata": {},
   "outputs": [
    {
     "data": {
      "text/plain": [
       "array([[ 1.,  2., -1., -1.,  3.],\n",
       "       [ 0.,  1.,  4.,  3., 22.],\n",
       "       [ 0.,  0.,  1.,  3.,  7.],\n",
       "       [-0., -0., -0.,  1.,  1.]])"
      ]
     },
     "execution_count": 22,
     "metadata": {},
     "output_type": "execute_result"
    }
   ],
   "source": [
    "A_ref"
   ]
  }
 ],
 "metadata": {
  "kernelspec": {
   "display_name": "Python 3 (ipykernel)",
   "language": "python",
   "name": "python3"
  },
  "language_info": {
   "codemirror_mode": {
    "name": "ipython",
    "version": 3
   },
   "file_extension": ".py",
   "mimetype": "text/x-python",
   "name": "python",
   "nbconvert_exporter": "python",
   "pygments_lexer": "ipython3",
   "version": "3.10.11"
  }
 },
 "nbformat": 4,
 "nbformat_minor": 5
}
