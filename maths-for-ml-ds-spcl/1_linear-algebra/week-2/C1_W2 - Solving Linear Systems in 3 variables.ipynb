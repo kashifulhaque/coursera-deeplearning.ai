{
 "cells": [
  {
   "cell_type": "markdown",
   "id": "5d8a1e6d",
   "metadata": {},
   "source": [
    "## **Solving Linear Systems: 3 variables**"
   ]
  },
  {
   "cell_type": "markdown",
   "id": "b04a1279",
   "metadata": {},
   "source": [
    "#### **Packages**"
   ]
  },
  {
   "cell_type": "code",
   "execution_count": 1,
   "id": "2f604d60",
   "metadata": {},
   "outputs": [],
   "source": [
    "import numpy as np"
   ]
  },
  {
   "cell_type": "markdown",
   "id": "f2fbb9ce",
   "metadata": {},
   "source": [
    "### **Representing and solving a system of linear equations using matrices**"
   ]
  },
  {
   "cell_type": "markdown",
   "id": "23d27af3",
   "metadata": {},
   "source": [
    "#### **System of linear equations using matrices**"
   ]
  },
  {
   "cell_type": "code",
   "execution_count": 2,
   "id": "00598273",
   "metadata": {},
   "outputs": [
    {
     "data": {
      "text/plain": [
       "(array([[ 4., -3.,  1.],\n",
       "        [ 2.,  1.,  3.],\n",
       "        [-1.,  2., -5.]]),\n",
       " array([-10.,   0.,  17.]))"
      ]
     },
     "execution_count": 2,
     "metadata": {},
     "output_type": "execute_result"
    }
   ],
   "source": [
    "A = np.array([\n",
    "    [4, -3, 1],\n",
    "    [2, 1, 3],\n",
    "    [-1, 2, -5]\n",
    "], dtype = np.dtype(float))\n",
    "b = np.array([-10, 0, 17], dtype = np.dtype(float))\n",
    "\n",
    "A, b"
   ]
  },
  {
   "cell_type": "code",
   "execution_count": null,
   "id": "fcdee499",
   "metadata": {},
   "outputs": [],
   "source": [
    "A.shape, b.shape"
   ]
  },
  {
   "cell_type": "code",
   "execution_count": null,
   "id": "f9436c3e",
   "metadata": {},
   "outputs": [],
   "source": [
    "X = np.linalg.solve(A, b)\n",
    "X"
   ]
  },
  {
   "cell_type": "code",
   "execution_count": null,
   "id": "917f5e59",
   "metadata": {},
   "outputs": [],
   "source": [
    "det_A = np.linalg.det(A)\n",
    "print(f'{det_A:.2f}')"
   ]
  },
  {
   "cell_type": "markdown",
   "id": "2e2d96cf",
   "metadata": {},
   "source": [
    "### **Solving system of linear equations using row reduction**"
   ]
  },
  {
   "cell_type": "markdown",
   "id": "6a300172",
   "metadata": {},
   "source": [
    "#### **Preparation of row reduction**"
   ]
  },
  {
   "cell_type": "code",
   "execution_count": 3,
   "id": "97f5a958",
   "metadata": {},
   "outputs": [
    {
     "data": {
      "text/plain": [
       "array([[  4.,  -3.,   1., -10.],\n",
       "       [  2.,   1.,   3.,   0.],\n",
       "       [ -1.,   2.,  -5.,  17.]])"
      ]
     },
     "execution_count": 3,
     "metadata": {},
     "output_type": "execute_result"
    }
   ],
   "source": [
    "A_system = np.hstack((A, b.reshape(3, 1)))\n",
    "A_system"
   ]
  },
  {
   "cell_type": "markdown",
   "id": "842ad6b1",
   "metadata": {},
   "source": [
    "#### **Functions of elementary operations**"
   ]
  },
  {
   "cell_type": "code",
   "execution_count": 5,
   "id": "9264d205",
   "metadata": {},
   "outputs": [],
   "source": [
    "def multiply_row(M, row_num, multiple):\n",
    "    M_new = M.copy()\n",
    "    M_new[row_num] = M_new[row_num] * multiple\n",
    "    \n",
    "    return M_new"
   ]
  },
  {
   "cell_type": "code",
   "execution_count": 6,
   "id": "6d409944",
   "metadata": {},
   "outputs": [],
   "source": [
    "def add_rows(M, row_num_1, row_num_2, multiple):\n",
    "    M_new = M.copy()\n",
    "    M_new[row_num_2] = multiple * M_new[row_num_1] + M_new[row_num_2]\n",
    "    \n",
    "    return M_new"
   ]
  },
  {
   "cell_type": "code",
   "execution_count": 7,
   "id": "b048463e",
   "metadata": {},
   "outputs": [],
   "source": [
    "def swap_rows(M, row_num_1, row_num_2):\n",
    "    M_new = M.copy()\n",
    "    M_new[[row_num_1, row_num_2]] = M_new[[row_num_2, row_num_1]]\n",
    "    \n",
    "    return M_new"
   ]
  },
  {
   "cell_type": "markdown",
   "id": "997d2aeb",
   "metadata": {},
   "source": [
    "#### **Row reduction and solution of linear system**"
   ]
  },
  {
   "cell_type": "code",
   "execution_count": 8,
   "id": "a9d1970d",
   "metadata": {},
   "outputs": [
    {
     "data": {
      "text/plain": [
       "array([[ -1.,   2.,  -5.,  17.],\n",
       "       [  2.,   1.,   3.,   0.],\n",
       "       [  4.,  -3.,   1., -10.]])"
      ]
     },
     "execution_count": 8,
     "metadata": {},
     "output_type": "execute_result"
    }
   ],
   "source": [
    "A_ref = swap_rows(A_system, 0, 2)\n",
    "A_ref"
   ]
  },
  {
   "cell_type": "code",
   "execution_count": 9,
   "id": "9702177b",
   "metadata": {},
   "outputs": [
    {
     "data": {
      "text/plain": [
       "array([[ -1.,   2.,  -5.,  17.],\n",
       "       [  0.,   5.,  -7.,  34.],\n",
       "       [  4.,  -3.,   1., -10.]])"
      ]
     },
     "execution_count": 9,
     "metadata": {},
     "output_type": "execute_result"
    }
   ],
   "source": [
    "A_ref = add_rows(A_ref, 0, 1, 2)\n",
    "A_ref"
   ]
  },
  {
   "cell_type": "code",
   "execution_count": 10,
   "id": "ee04bebe",
   "metadata": {},
   "outputs": [
    {
     "data": {
      "text/plain": [
       "array([[ -1.,   2.,  -5.,  17.],\n",
       "       [  0.,   5.,  -7.,  34.],\n",
       "       [  0.,   5., -19.,  58.]])"
      ]
     },
     "execution_count": 10,
     "metadata": {},
     "output_type": "execute_result"
    }
   ],
   "source": [
    "A_ref = add_rows(A_ref, 0, 2, 4)\n",
    "A_ref"
   ]
  },
  {
   "cell_type": "code",
   "execution_count": 11,
   "id": "360164f2",
   "metadata": {},
   "outputs": [
    {
     "data": {
      "text/plain": [
       "array([[ -1.,   2.,  -5.,  17.],\n",
       "       [  0.,   5.,  -7.,  34.],\n",
       "       [  0.,   0., -12.,  24.]])"
      ]
     },
     "execution_count": 11,
     "metadata": {},
     "output_type": "execute_result"
    }
   ],
   "source": [
    "A_ref = add_rows(A_ref, 1, 2, -1)\n",
    "A_ref"
   ]
  },
  {
   "cell_type": "code",
   "execution_count": 12,
   "id": "04563f91",
   "metadata": {},
   "outputs": [
    {
     "data": {
      "text/plain": [
       "array([[-1.,  2., -5., 17.],\n",
       "       [ 0.,  5., -7., 34.],\n",
       "       [-0., -0.,  1., -2.]])"
      ]
     },
     "execution_count": 12,
     "metadata": {},
     "output_type": "execute_result"
    }
   ],
   "source": [
    "A_ref = multiply_row(A_ref, 2, -1/12)\n",
    "A_ref"
   ]
  },
  {
   "cell_type": "code",
   "execution_count": 13,
   "id": "d5cfd8f7",
   "metadata": {},
   "outputs": [
    {
     "data": {
      "text/plain": [
       "(1.0, 4.0, -2)"
      ]
     },
     "execution_count": 13,
     "metadata": {},
     "output_type": "execute_result"
    }
   ],
   "source": [
    "x_3 = -2\n",
    "x_2 = (A_ref[1, 3] - (A_ref[1, 2] * x_3)) / A_ref[1, 1]\n",
    "x_1 = (A_ref[0, 3] - (A_ref[0, 2] * x_3) - (A_ref[0, 1] * x_2)) / A_ref[0, 0]\n",
    "\n",
    "x_1, x_2, x_3"
   ]
  },
  {
   "cell_type": "code",
   "execution_count": null,
   "id": "2cec0cb9",
   "metadata": {},
   "outputs": [],
   "source": []
  }
 ],
 "metadata": {
  "kernelspec": {
   "display_name": "Python 3 (ipykernel)",
   "language": "python",
   "name": "python3"
  },
  "language_info": {
   "codemirror_mode": {
    "name": "ipython",
    "version": 3
   },
   "file_extension": ".py",
   "mimetype": "text/x-python",
   "name": "python",
   "nbconvert_exporter": "python",
   "pygments_lexer": "ipython3",
   "version": "3.10.11"
  }
 },
 "nbformat": 4,
 "nbformat_minor": 5
}
