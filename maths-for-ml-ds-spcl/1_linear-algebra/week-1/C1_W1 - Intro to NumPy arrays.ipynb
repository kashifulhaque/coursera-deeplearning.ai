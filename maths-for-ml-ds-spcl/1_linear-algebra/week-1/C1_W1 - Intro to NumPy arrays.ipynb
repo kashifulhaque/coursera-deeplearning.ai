{
 "cells": [
  {
   "cell_type": "markdown",
   "id": "8d6809b1",
   "metadata": {},
   "source": [
    "### **Basics of `NumPy`**\n",
    "\n",
    "> Main package for scientific computing in python"
   ]
  },
  {
   "cell_type": "markdown",
   "id": "f9cccd25",
   "metadata": {},
   "source": [
    "#### **Install the package**"
   ]
  },
  {
   "cell_type": "code",
   "execution_count": 2,
   "id": "61d086ad",
   "metadata": {},
   "outputs": [],
   "source": [
    "# Depending upon which package manager we're using\n",
    "\n",
    "# !conda install numpy\n",
    "# !pip install numpy"
   ]
  },
  {
   "cell_type": "markdown",
   "id": "b9df3919",
   "metadata": {},
   "source": [
    "#### **Import the package**"
   ]
  },
  {
   "cell_type": "code",
   "execution_count": 4,
   "id": "26f12536",
   "metadata": {},
   "outputs": [],
   "source": [
    "import numpy as np"
   ]
  },
  {
   "cell_type": "markdown",
   "id": "ef9ed42b",
   "metadata": {},
   "source": [
    "#### **Advantages of using NumPy arrays**\n",
    "\n",
    "- NumPy arrays work like traditional C arrays and are rigid and fast, unlike python lists which are slow\n",
    "- An array obj in NumPy is called `ndarray` (n-dimensional array)"
   ]
  },
  {
   "cell_type": "markdown",
   "id": "47f84953",
   "metadata": {},
   "source": [
    "#### **Create a NumPy array**"
   ]
  },
  {
   "cell_type": "code",
   "execution_count": 5,
   "id": "c6804999",
   "metadata": {
    "scrolled": true
   },
   "outputs": [
    {
     "data": {
      "text/plain": [
       "array([  25,   12, 1997])"
      ]
     },
     "execution_count": 5,
     "metadata": {},
     "output_type": "execute_result"
    }
   ],
   "source": [
    "array_1D = np.array([25, 12, 1997])\n",
    "array_1D"
   ]
  },
  {
   "cell_type": "markdown",
   "id": "994e36f8",
   "metadata": {},
   "source": [
    "- Another way is to use `np.arange()`\n",
    "- This function will return an array of evenly spaced values within a given interval"
   ]
  },
  {
   "cell_type": "code",
   "execution_count": 6,
   "id": "16845aba",
   "metadata": {},
   "outputs": [
    {
     "data": {
      "text/plain": [
       "array([0, 1, 2, 3, 4, 5, 6, 7, 8, 9])"
      ]
     },
     "execution_count": 6,
     "metadata": {},
     "output_type": "execute_result"
    }
   ],
   "source": [
    "b = np.arange(10)\n",
    "b"
   ]
  },
  {
   "cell_type": "code",
   "execution_count": 8,
   "id": "9ccc2784",
   "metadata": {},
   "outputs": [
    {
     "data": {
      "text/plain": [
       "array([ 1,  4,  7, 10, 13, 16, 19])"
      ]
     },
     "execution_count": 8,
     "metadata": {},
     "output_type": "execute_result"
    }
   ],
   "source": [
    "# Start a 1, end at 20, step size of 3\n",
    "c = np.arange(1, 20, 3)\n",
    "c"
   ]
  },
  {
   "cell_type": "markdown",
   "id": "c53b1c5d",
   "metadata": {},
   "source": [
    "- Use `np.linspace()` to get `n` evenly spaced values in an interval"
   ]
  },
  {
   "cell_type": "code",
   "execution_count": 9,
   "id": "7b6d6ba2",
   "metadata": {},
   "outputs": [
    {
     "data": {
      "text/plain": [
       "array([  0.,  25.,  50.,  75., 100.])"
      ]
     },
     "execution_count": 9,
     "metadata": {},
     "output_type": "execute_result"
    }
   ],
   "source": [
    "# Give me 5 evenly spaced elements in the range 0...100\n",
    "linspaced_array = np.linspace(0, 100, 5)\n",
    "linspaced_array"
   ]
  },
  {
   "cell_type": "markdown",
   "id": "ae9c3e1a",
   "metadata": {},
   "source": [
    "- All of these functions take optional argument `dtype` to define the datatype of array"
   ]
  },
  {
   "cell_type": "code",
   "execution_count": 10,
   "id": "22018d13",
   "metadata": {},
   "outputs": [
    {
     "data": {
      "text/plain": [
       "array([ 1,  4,  7, 10, 13, 16, 19])"
      ]
     },
     "execution_count": 10,
     "metadata": {},
     "output_type": "execute_result"
    }
   ],
   "source": [
    "c_int = np.arange(1, 20, 3, dtype = int)\n",
    "c_int"
   ]
  },
  {
   "cell_type": "markdown",
   "id": "773275c7",
   "metadata": {},
   "source": [
    "- `np.ones()` returns a new array with all values set to 1"
   ]
  },
  {
   "cell_type": "code",
   "execution_count": 11,
   "id": "dfd29001",
   "metadata": {},
   "outputs": [
    {
     "data": {
      "text/plain": [
       "array([1., 1., 1., 1., 1.])"
      ]
     },
     "execution_count": 11,
     "metadata": {},
     "output_type": "execute_result"
    }
   ],
   "source": [
    "ones_array = np.ones(5)\n",
    "ones_array"
   ]
  },
  {
   "cell_type": "markdown",
   "id": "75b8b957",
   "metadata": {},
   "source": [
    "- `np.zeros()` returns a new array with all values set to 0"
   ]
  },
  {
   "cell_type": "code",
   "execution_count": 13,
   "id": "be2f1762",
   "metadata": {},
   "outputs": [
    {
     "data": {
      "text/plain": [
       "array([0., 0., 0., 0., 0.])"
      ]
     },
     "execution_count": 13,
     "metadata": {},
     "output_type": "execute_result"
    }
   ],
   "source": [
    "zeros_array = np.zeros(5)\n",
    "zeros_array"
   ]
  },
  {
   "cell_type": "markdown",
   "id": "4bc35b1b",
   "metadata": {},
   "source": [
    "- `np.empty()` returns an un-initialized array"
   ]
  },
  {
   "cell_type": "code",
   "execution_count": 14,
   "id": "b21ed818",
   "metadata": {},
   "outputs": [
    {
     "data": {
      "text/plain": [
       "array([0., 0., 0., 0., 0.])"
      ]
     },
     "execution_count": 14,
     "metadata": {},
     "output_type": "execute_result"
    }
   ],
   "source": [
    "empty_array = np.empty(5)\n",
    "empty_array"
   ]
  },
  {
   "cell_type": "markdown",
   "id": "1ad7f87d",
   "metadata": {},
   "source": [
    "- `np.random.rand()` returns a new array with values chosen at random between 0 and 1"
   ]
  },
  {
   "cell_type": "code",
   "execution_count": 15,
   "id": "3e1d86ca",
   "metadata": {},
   "outputs": [
    {
     "data": {
      "text/plain": [
       "array([0.58714389, 0.39828268, 0.2685886 , 0.01263349, 0.867236  ])"
      ]
     },
     "execution_count": 15,
     "metadata": {},
     "output_type": "execute_result"
    }
   ],
   "source": [
    "random_array = np.random.rand(5)\n",
    "random_array"
   ]
  },
  {
   "cell_type": "markdown",
   "id": "1b23e80d",
   "metadata": {},
   "source": [
    "#### **Multi-dimensional arrays**"
   ]
  },
  {
   "cell_type": "code",
   "execution_count": 16,
   "id": "15d4b7d0",
   "metadata": {},
   "outputs": [
    {
     "data": {
      "text/plain": [
       "array([[1, 2, 3],\n",
       "       [4, 5, 6]])"
      ]
     },
     "execution_count": 16,
     "metadata": {},
     "output_type": "execute_result"
    }
   ],
   "source": [
    "array_2D = np.array([\n",
    "    [1, 2, 3],\n",
    "    [4, 5, 6]\n",
    "])\n",
    "array_2D"
   ]
  },
  {
   "cell_type": "markdown",
   "id": "b0e5ffa7",
   "metadata": {},
   "source": [
    "- `np.reshape()` can be used to re-arrange elements of an array into a new shape"
   ]
  },
  {
   "cell_type": "code",
   "execution_count": 17,
   "id": "e0619c79",
   "metadata": {},
   "outputs": [
    {
     "data": {
      "text/plain": [
       "array([[1, 2, 3],\n",
       "       [4, 5, 6]])"
      ]
     },
     "execution_count": 17,
     "metadata": {},
     "output_type": "execute_result"
    }
   ],
   "source": [
    "array_1D = np.array([1, 2, 3, 4, 5, 6])\n",
    "\n",
    "array_multiD = np.reshape(array_1D, (2, 3))\n",
    "array_multiD"
   ]
  },
  {
   "cell_type": "markdown",
   "id": "110cbb12",
   "metadata": {},
   "source": [
    "#### **Finding size, shape and dimension**"
   ]
  },
  {
   "cell_type": "markdown",
   "id": "dd4cfd42",
   "metadata": {},
   "source": [
    "- `ndarray.ndim` to get dimensions of the array"
   ]
  },
  {
   "cell_type": "code",
   "execution_count": 18,
   "id": "db55feef",
   "metadata": {},
   "outputs": [
    {
     "data": {
      "text/plain": [
       "2"
      ]
     },
     "execution_count": 18,
     "metadata": {},
     "output_type": "execute_result"
    }
   ],
   "source": [
    "array_multiD.ndim"
   ]
  },
  {
   "cell_type": "markdown",
   "id": "cb8c370d",
   "metadata": {},
   "source": [
    "- `ndarray.shape` to get the shape of the array"
   ]
  },
  {
   "cell_type": "code",
   "execution_count": 19,
   "id": "33bcc48a",
   "metadata": {},
   "outputs": [
    {
     "data": {
      "text/plain": [
       "(2, 3)"
      ]
     },
     "execution_count": 19,
     "metadata": {},
     "output_type": "execute_result"
    }
   ],
   "source": [
    "array_multiD.shape"
   ]
  },
  {
   "cell_type": "markdown",
   "id": "1be53ffd",
   "metadata": {},
   "source": [
    "- `ndarray.size` returns the number of elements in the array"
   ]
  },
  {
   "cell_type": "code",
   "execution_count": 20,
   "id": "3cc83108",
   "metadata": {},
   "outputs": [
    {
     "data": {
      "text/plain": [
       "6"
      ]
     },
     "execution_count": 20,
     "metadata": {},
     "output_type": "execute_result"
    }
   ],
   "source": [
    "array_multiD.size"
   ]
  },
  {
   "cell_type": "markdown",
   "id": "72f7c8d1",
   "metadata": {},
   "source": [
    "#### **Array math**"
   ]
  },
  {
   "cell_type": "code",
   "execution_count": 21,
   "id": "cc74745c",
   "metadata": {},
   "outputs": [],
   "source": [
    "arr_1 = np.array([2, 4, 6])\n",
    "arr_2 = np.array([1, 3, 5])"
   ]
  },
  {
   "cell_type": "markdown",
   "id": "1eb1263a",
   "metadata": {},
   "source": [
    "- **Addition**"
   ]
  },
  {
   "cell_type": "code",
   "execution_count": 23,
   "id": "8e7681dd",
   "metadata": {},
   "outputs": [
    {
     "data": {
      "text/plain": [
       "array([ 3,  7, 11])"
      ]
     },
     "execution_count": 23,
     "metadata": {},
     "output_type": "execute_result"
    }
   ],
   "source": [
    "addition = arr_1 + arr_2\n",
    "addition"
   ]
  },
  {
   "cell_type": "markdown",
   "id": "286afa73",
   "metadata": {},
   "source": [
    "- **Subtraction**"
   ]
  },
  {
   "cell_type": "code",
   "execution_count": 24,
   "id": "246a3369",
   "metadata": {},
   "outputs": [
    {
     "data": {
      "text/plain": [
       "array([1, 1, 1])"
      ]
     },
     "execution_count": 24,
     "metadata": {},
     "output_type": "execute_result"
    }
   ],
   "source": [
    "subtraction = arr_1 - arr_2\n",
    "subtraction"
   ]
  },
  {
   "cell_type": "markdown",
   "id": "8fecf4eb",
   "metadata": {},
   "source": [
    "- **Multiplication** of two 1D arrays, elementwise"
   ]
  },
  {
   "cell_type": "code",
   "execution_count": 25,
   "id": "57d35418",
   "metadata": {},
   "outputs": [
    {
     "data": {
      "text/plain": [
       "array([ 2, 12, 30])"
      ]
     },
     "execution_count": 25,
     "metadata": {},
     "output_type": "execute_result"
    }
   ],
   "source": [
    "multiplication = arr_1 * arr_2\n",
    "multiplication"
   ]
  },
  {
   "cell_type": "markdown",
   "id": "100c68b0",
   "metadata": {},
   "source": [
    "#### **Multiplying a vector with a scalar (broadcasting)**"
   ]
  },
  {
   "cell_type": "code",
   "execution_count": 26,
   "id": "58f491dd",
   "metadata": {},
   "outputs": [
    {
     "data": {
      "text/plain": [
       "array([2, 4, 6])"
      ]
     },
     "execution_count": 26,
     "metadata": {},
     "output_type": "execute_result"
    }
   ],
   "source": [
    "vector = np.array([1, 2, 3])\n",
    "vector * 2"
   ]
  },
  {
   "cell_type": "markdown",
   "id": "e2d55e48",
   "metadata": {},
   "source": [
    "#### **Indexing and slicing**"
   ]
  },
  {
   "cell_type": "markdown",
   "id": "6ec47eb3",
   "metadata": {},
   "source": [
    "- **Indexing**"
   ]
  },
  {
   "cell_type": "code",
   "execution_count": 27,
   "id": "bf8aa273",
   "metadata": {},
   "outputs": [
    {
     "data": {
      "text/plain": [
       "3"
      ]
     },
     "execution_count": 27,
     "metadata": {},
     "output_type": "execute_result"
    }
   ],
   "source": [
    "a = np.array([1, 2, 3, 4, 5])\n",
    "a[2]"
   ]
  },
  {
   "cell_type": "code",
   "execution_count": 28,
   "id": "362ebbc7",
   "metadata": {},
   "outputs": [
    {
     "data": {
      "text/plain": [
       "8"
      ]
     },
     "execution_count": 28,
     "metadata": {},
     "output_type": "execute_result"
    }
   ],
   "source": [
    "a_2D = np.array([\n",
    "    [1, 2, 3],\n",
    "    [4, 5, 6],\n",
    "    [7, 8, 9]\n",
    "])\n",
    "a_2D[2][1]"
   ]
  },
  {
   "cell_type": "markdown",
   "id": "c4df6650",
   "metadata": {},
   "source": [
    "- **Slicing**"
   ]
  },
  {
   "cell_type": "code",
   "execution_count": 30,
   "id": "216e11b0",
   "metadata": {},
   "outputs": [
    {
     "data": {
      "text/plain": [
       "array([2, 3, 4])"
      ]
     },
     "execution_count": 30,
     "metadata": {},
     "output_type": "execute_result"
    }
   ],
   "source": [
    "sliced_array = a[1:4]\n",
    "sliced_array"
   ]
  },
  {
   "cell_type": "code",
   "execution_count": 31,
   "id": "fd1c6bf9",
   "metadata": {},
   "outputs": [
    {
     "data": {
      "text/plain": [
       "array([1, 2, 3])"
      ]
     },
     "execution_count": 31,
     "metadata": {},
     "output_type": "execute_result"
    }
   ],
   "source": [
    "sliced_array = a[:3]\n",
    "sliced_array"
   ]
  },
  {
   "cell_type": "code",
   "execution_count": 32,
   "id": "fd62d16e",
   "metadata": {},
   "outputs": [
    {
     "data": {
      "text/plain": [
       "array([3, 4, 5])"
      ]
     },
     "execution_count": 32,
     "metadata": {},
     "output_type": "execute_result"
    }
   ],
   "source": [
    "sliced_array = a[2:]\n",
    "sliced_array"
   ]
  },
  {
   "cell_type": "code",
   "execution_count": 33,
   "id": "7c0b512b",
   "metadata": {},
   "outputs": [
    {
     "data": {
      "text/plain": [
       "array([1, 3, 5])"
      ]
     },
     "execution_count": 33,
     "metadata": {},
     "output_type": "execute_result"
    }
   ],
   "source": [
    "# Get every 2nd element from array\n",
    "sliced_array = a[::2]\n",
    "sliced_array"
   ]
  },
  {
   "cell_type": "code",
   "execution_count": 36,
   "id": "9da06477",
   "metadata": {},
   "outputs": [
    {
     "data": {
      "text/plain": [
       "array([[1, 2, 3],\n",
       "       [4, 5, 6]])"
      ]
     },
     "execution_count": 36,
     "metadata": {},
     "output_type": "execute_result"
    }
   ],
   "source": [
    "sliced_array_2D = a_2D[0:2]\n",
    "sliced_array_2D"
   ]
  },
  {
   "cell_type": "code",
   "execution_count": 37,
   "id": "2b469b28",
   "metadata": {},
   "outputs": [
    {
     "data": {
      "text/plain": [
       "array([[4, 5, 6],\n",
       "       [7, 8, 9]])"
      ]
     },
     "execution_count": 37,
     "metadata": {},
     "output_type": "execute_result"
    }
   ],
   "source": [
    "sliced_array_2D = a_2D[1:3]\n",
    "sliced_array_2D"
   ]
  },
  {
   "cell_type": "code",
   "execution_count": 38,
   "id": "732fd5fd",
   "metadata": {},
   "outputs": [
    {
     "data": {
      "text/plain": [
       "array([2, 5, 8])"
      ]
     },
     "execution_count": 38,
     "metadata": {},
     "output_type": "execute_result"
    }
   ],
   "source": [
    "# Get the 2nd column\n",
    "sliced_column = a_2D[:, 1]\n",
    "sliced_column"
   ]
  },
  {
   "cell_type": "markdown",
   "id": "bf59bf7c",
   "metadata": {},
   "source": [
    "#### **Stacking**"
   ]
  },
  {
   "cell_type": "code",
   "execution_count": 39,
   "id": "82babeca",
   "metadata": {},
   "outputs": [
    {
     "data": {
      "text/plain": [
       "(array([[1, 1],\n",
       "        [2, 2]]),\n",
       " array([[3, 3],\n",
       "        [4, 4]]))"
      ]
     },
     "execution_count": 39,
     "metadata": {},
     "output_type": "execute_result"
    }
   ],
   "source": [
    "a1 = np.array([\n",
    "    [1, 1],\n",
    "    [2, 2]\n",
    "])\n",
    "\n",
    "a2 = np.array([\n",
    "    [3, 3],\n",
    "    [4, 4]\n",
    "])\n",
    "\n",
    "a1, a2"
   ]
  },
  {
   "cell_type": "markdown",
   "id": "939fe26b",
   "metadata": {},
   "source": [
    "- `np.vstack()` is used to stack vertically"
   ]
  },
  {
   "cell_type": "code",
   "execution_count": 40,
   "id": "db315fbd",
   "metadata": {},
   "outputs": [
    {
     "data": {
      "text/plain": [
       "array([[1, 1],\n",
       "       [2, 2],\n",
       "       [3, 3],\n",
       "       [4, 4]])"
      ]
     },
     "execution_count": 40,
     "metadata": {},
     "output_type": "execute_result"
    }
   ],
   "source": [
    "vertical_stacking = np.vstack((a1, a2))\n",
    "vertical_stacking"
   ]
  },
  {
   "cell_type": "markdown",
   "id": "b7a63b25",
   "metadata": {},
   "source": [
    "- `np.hstack()` is used to stack horizontally"
   ]
  },
  {
   "cell_type": "code",
   "execution_count": 41,
   "id": "87946b0c",
   "metadata": {},
   "outputs": [
    {
     "data": {
      "text/plain": [
       "array([[1, 1, 3, 3],\n",
       "       [2, 2, 4, 4]])"
      ]
     },
     "execution_count": 41,
     "metadata": {},
     "output_type": "execute_result"
    }
   ],
   "source": [
    "horizontal_stacking = np.hstack((a1, a2))\n",
    "horizontal_stacking"
   ]
  },
  {
   "cell_type": "code",
   "execution_count": null,
   "id": "f5a27c73",
   "metadata": {},
   "outputs": [],
   "source": []
  }
 ],
 "metadata": {
  "kernelspec": {
   "display_name": "Python 3 (ipykernel)",
   "language": "python",
   "name": "python3"
  },
  "language_info": {
   "codemirror_mode": {
    "name": "ipython",
    "version": 3
   },
   "file_extension": ".py",
   "mimetype": "text/x-python",
   "name": "python",
   "nbconvert_exporter": "python",
   "pygments_lexer": "ipython3",
   "version": "3.10.11"
  }
 },
 "nbformat": 4,
 "nbformat_minor": 5
}
