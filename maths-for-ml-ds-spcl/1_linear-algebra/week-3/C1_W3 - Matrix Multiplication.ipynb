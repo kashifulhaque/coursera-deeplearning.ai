{
 "cells": [
  {
   "cell_type": "markdown",
   "id": "83d173cf",
   "metadata": {},
   "source": [
    "## **Matrix multiplication**"
   ]
  },
  {
   "cell_type": "markdown",
   "id": "6b62e619",
   "metadata": {},
   "source": [
    "### **Packages**"
   ]
  },
  {
   "cell_type": "code",
   "execution_count": 1,
   "id": "4f0c640a",
   "metadata": {},
   "outputs": [],
   "source": [
    "import numpy as np"
   ]
  },
  {
   "cell_type": "markdown",
   "id": "78c8d47b",
   "metadata": {},
   "source": [
    "### **Definition of matrix multiplication**\n",
    "\n",
    "- $A = m \\times n$ matrix\n",
    "- $B = n \\times p$ matrix\n",
    "- $C = AB$ is a $m \\times p$ matrix\n",
    "\n",
    "$c_{ij}=a_{i1}b_{1j}+a_{i2}b_{2j}+\\ldots+a_{in}b_{nj}=\\sum_{k=1}^{n} a_{ik}b_{kj} \\tag{4}$"
   ]
  },
  {
   "cell_type": "markdown",
   "id": "83b1f6cf",
   "metadata": {},
   "source": [
    "### **Matrix multiplication using Python**"
   ]
  },
  {
   "cell_type": "code",
   "execution_count": 2,
   "id": "c53462fb",
   "metadata": {},
   "outputs": [],
   "source": [
    "A = np.array([\n",
    "    [4, 9, 9],\n",
    "    [9, 1, 6],\n",
    "    [9, 2, 3]\n",
    "])\n",
    "\n",
    "B = np.array([\n",
    "    [2, 2],\n",
    "    [5, 7],\n",
    "    [4, 4]\n",
    "])"
   ]
  },
  {
   "cell_type": "code",
   "execution_count": 3,
   "id": "85d306fa",
   "metadata": {},
   "outputs": [
    {
     "data": {
      "text/plain": [
       "array([[ 89, 107],\n",
       "       [ 47,  49],\n",
       "       [ 40,  44]])"
      ]
     },
     "execution_count": 3,
     "metadata": {},
     "output_type": "execute_result"
    }
   ],
   "source": [
    "np.matmul(A, B)"
   ]
  },
  {
   "cell_type": "code",
   "execution_count": 4,
   "id": "4a0fd8b2",
   "metadata": {},
   "outputs": [
    {
     "data": {
      "text/plain": [
       "array([[ 89, 107],\n",
       "       [ 47,  49],\n",
       "       [ 40,  44]])"
      ]
     },
     "execution_count": 4,
     "metadata": {},
     "output_type": "execute_result"
    }
   ],
   "source": [
    "A @ B"
   ]
  },
  {
   "cell_type": "markdown",
   "id": "581cb1a0",
   "metadata": {},
   "source": [
    "#### **Special case**\n",
    "> When multiplying vectors of the same size"
   ]
  },
  {
   "cell_type": "code",
   "execution_count": 5,
   "id": "016ec0d2",
   "metadata": {},
   "outputs": [],
   "source": [
    "x = np.array([1, -2, -5])\n",
    "y = np.array([4, 3, -1])"
   ]
  },
  {
   "cell_type": "markdown",
   "id": "1790974f",
   "metadata": {},
   "source": [
    "- As per linear algebra conventions, multiplication of matrices $3 \\times 1$ and $3 \\times 1$ is not defined\n",
    "- But the following line of code works"
   ]
  },
  {
   "cell_type": "code",
   "execution_count": 6,
   "id": "dda0a785",
   "metadata": {
    "scrolled": true
   },
   "outputs": [
    {
     "data": {
      "text/plain": [
       "3"
      ]
     },
     "execution_count": 6,
     "metadata": {},
     "output_type": "execute_result"
    }
   ],
   "source": [
    "np.matmul(x, y)"
   ]
  },
  {
   "cell_type": "markdown",
   "id": "53c8fd26",
   "metadata": {},
   "source": [
    "- It basically captured the dot product $x \\cdot y$\n",
    "- Here, the vector $x$ was automatically transposed to $1 \\times 3$\n",
    "    - Then, the matrix multiplication $x^{T}y$ was calculated\n",
    "- The following will result in an **error**"
   ]
  },
  {
   "cell_type": "code",
   "execution_count": 7,
   "id": "b0bbb0c4",
   "metadata": {},
   "outputs": [
    {
     "name": "stdout",
     "output_type": "stream",
     "text": [
      "matmul: Input operand 1 has a mismatch in its core dimension 0, with gufunc signature (n?,k),(k,m?)->(n?,m?) (size 3 is different from 1)\n"
     ]
    }
   ],
   "source": [
    "try:\n",
    "    np.matmul(x.reshape((3, 1)), y.reshape((3, 1)))\n",
    "except ValueError as err:\n",
    "    print(err)"
   ]
  },
  {
   "cell_type": "markdown",
   "id": "08c92253",
   "metadata": {},
   "source": [
    "`np.dot()` also works for matrix multiplication"
   ]
  },
  {
   "cell_type": "code",
   "execution_count": 8,
   "id": "9ac8ce34",
   "metadata": {},
   "outputs": [
    {
     "data": {
      "text/plain": [
       "array([[ 89, 107],\n",
       "       [ 47,  49],\n",
       "       [ 40,  44]])"
      ]
     },
     "execution_count": 8,
     "metadata": {},
     "output_type": "execute_result"
    }
   ],
   "source": [
    "np.dot(A, B)"
   ]
  },
  {
   "cell_type": "markdown",
   "id": "39abd886",
   "metadata": {},
   "source": [
    "- This is called **broadcasting** in python\n",
    "- `numpy` broadcasted this dot product operation to all rows and all columns to get the resultant product matrix"
   ]
  },
  {
   "cell_type": "markdown",
   "id": "2ab7e9b9",
   "metadata": {},
   "source": [
    "- Linear Algebra doesn't permit the subtraction of a $3 \\times 3$ matrix and a scalar, but Python broadcasts the scalar\n",
    "- It creates a $3 \\times 3$ `np.array` and performs the subtraction element by element"
   ]
  },
  {
   "cell_type": "code",
   "execution_count": 9,
   "id": "b4a6b3ed",
   "metadata": {},
   "outputs": [
    {
     "data": {
      "text/plain": [
       "array([[ 2,  7,  7],\n",
       "       [ 7, -1,  4],\n",
       "       [ 7,  0,  1]])"
      ]
     },
     "execution_count": 9,
     "metadata": {},
     "output_type": "execute_result"
    }
   ],
   "source": [
    "A - 2"
   ]
  }
 ],
 "metadata": {
  "kernelspec": {
   "display_name": "Python 3 (ipykernel)",
   "language": "python",
   "name": "python3"
  },
  "language_info": {
   "codemirror_mode": {
    "name": "ipython",
    "version": 3
   },
   "file_extension": ".py",
   "mimetype": "text/x-python",
   "name": "python",
   "nbconvert_exporter": "python",
   "pygments_lexer": "ipython3",
   "version": "3.10.11"
  }
 },
 "nbformat": 4,
 "nbformat_minor": 5
}
