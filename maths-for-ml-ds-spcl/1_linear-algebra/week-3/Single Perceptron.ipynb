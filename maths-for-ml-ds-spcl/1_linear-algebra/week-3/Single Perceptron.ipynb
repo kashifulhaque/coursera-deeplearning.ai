{
 "cells": [
  {
   "cell_type": "markdown",
   "id": "5339713a",
   "metadata": {},
   "source": [
    "## **Single Perceptron Neural Networks for Linear Regression**"
   ]
  },
  {
   "cell_type": "markdown",
   "id": "8b741003",
   "metadata": {},
   "source": [
    "### **Packages**"
   ]
  },
  {
   "cell_type": "code",
   "execution_count": 1,
   "id": "1a7138cb",
   "metadata": {},
   "outputs": [],
   "source": [
    "import numpy as np\n",
    "import pandas as pd\n",
    "import matplotlib.pyplot as plt\n",
    "\n",
    "from sklearn.datasets import make_regression\n",
    "\n",
    "import w3_tools\n",
    "\n",
    "%matplotlib inline\n",
    "\n",
    "np.random.seed(3)"
   ]
  },
  {
   "cell_type": "code",
   "execution_count": 2,
   "id": "768c6dad",
   "metadata": {},
   "outputs": [],
   "source": [
    "import w3_unittest"
   ]
  },
  {
   "cell_type": "markdown",
   "id": "022db8a5",
   "metadata": {},
   "source": [
    "### **Simple Linear Regression**\n",
    "\n",
    "- It's a linear approach for modelling the relationship between a scalar response (**dependent variable**) and one or more explanatory variables (**independent variables**)\n",
    "    - **Simple Linear Regression:** if one independent variable\n",
    "    - **Multiple Linear Regression:** if more than one independent variables"
   ]
  },
  {
   "cell_type": "markdown",
   "id": "65cc35ac",
   "metadata": {},
   "source": [
    "#### **Simple Linear Regression model**\n",
    "\n",
    "- A very simple linear regression model can be written as\n",
    "\n",
    "$$\\hat{y} = wx + b\\tag{1}$$\n",
    "\n",
    "$\\hat{y}$ is the prediction of dependent variable $y$ based on independent variable $x$ using a line equation with the slope $w$ and intercept $b$"
   ]
  },
  {
   "cell_type": "markdown",
   "id": "6d77bdac",
   "metadata": {},
   "source": [
    "- Given a set of training data points $(x_{1}, y_{1}),...,(x_{m}, y_{m})$\n",
    "    - The aim is to find the \"best\" fitting line, such parameters $w$ and $b$\n",
    "    - Such that the difference between original value $y_{i}$ and the predicted value $\\hat{y} = wx_{i} + b$ are minimum"
   ]
  },
  {
   "cell_type": "markdown",
   "id": "1f4aa05b",
   "metadata": {},
   "source": [
    "#### **Neural Network model with a single perceptron and one input node**\n",
    "\n",
    "- Simplest neural network model has only one perceptron\n",
    "- It takes some inputs and calculates the output value\n",
    "\n",
    "<img src=\"images/nn_model_linear_regression_simple.png\" style=\"width:400px;\">\n",
    "\n",
    "- **Node:** it is the smallest construction block of a neural network\n",
    "    - Some nodes store numbers from input\n",
    "    - Others store the calculated values\n",
    "- **Input nodes** contain the input to the network\n",
    "    - These nodes are set as **input layer** of the network"
   ]
  },
  {
   "cell_type": "markdown",
   "id": "752df5d0",
   "metadata": {},
   "source": [
    "- **Weight ($w$)** and **bias ($b$)** are the params which will get updated when we **train** the model\n",
    "    - They are initialized to some random value and updated as the training progresses\n",
    "    - Bias makes the model more flexible\n",
    "- The perceptron output calculation is straightforward\n",
    "\n",
    "$$z = w x + b\\tag{2}$$\n",
    "\n",
    "- The **output layer** of a single perceptron has only one node $\\hat{y} = z$\n",
    "\n",
    "\\begin{align}\n",
    "z^{(i)} &=  w x^{(i)} + b\\\\\n",
    "\\hat{y}^{(i)} &= z^{(i)}\n",
    "\\tag{3}\\end{align}\n",
    "\n",
    "here, $x^{(i)}$ represents the $i$-th training example and $\\hat{y}^{(i)}$ will be the prediction based on that example, $i = 1,...,m$"
   ]
  },
  {
   "cell_type": "markdown",
   "id": "5b89324f",
   "metadata": {},
   "source": [
    "- If we have $m$ training examples, vector operations will give us a chance to perform the calculations simultaneously\n",
    "- Organize all training examples as vector $X$ of size $(1 \\times m)$\n",
    "- Perform scalar multiplication $X \\ (1 \\times m)$ by a scalar $w$, adding $b$, which will be broadcasted to the vector of size $(1 \\times m)$\n",
    "\n",
    "\\begin{align}\n",
    "Z &=  w X + b\\\\\n",
    "\\hat{Y} &= Z\n",
    "\\tag{4}\\end{align}\n",
    "\n",
    "- This significantly speeds up the calculations for larger training sets\n",
    "- This set of calculations is called **forward propagation**"
   ]
  },
  {
   "cell_type": "markdown",
   "id": "e35fc2e4",
   "metadata": {},
   "source": [
    "- Now we can compare the resulting vector of predictions $\\hat{Y} \\ (1 \\times m)$ with the original vector of data $Y$\n",
    "- This can be done with the **cost function**\n",
    "    - Cost function measures how close the vector of predictions is to the training data\n",
    "    - It evaluates how well the parameters $w$ and $b$ work to solve the problem\n",
    "- For a simple neural network, we can calculate the cost as:\n",
    "\n",
    "$$\\mathcal{L}\\left(w, b\\right)  = \\frac{1}{2m}\\sum_{i=1}^{m} \\left(\\hat{y}^{(i)} - y^{(i)}\\right)^2\\tag{5}$$\n",
    "\n",
    "- The aim is to minimize the cost function during training\n",
    "- It will minimize the differences between original values $y_{i}$ and predicted values $\\hat{y}_{i}$\n",
    "    - Division by $2m$ is taken just for scaling purposes"
   ]
  },
  {
   "cell_type": "markdown",
   "id": "0e53cc32",
   "metadata": {},
   "source": [
    "- The next step is to adjust the weights and biases, in order to minimize the cost function\n",
    "    - This process is called **backward propagation**\n",
    "    - It is done iteratively\n",
    "        - We update the paramters with a small change\n",
    "        - Repeat the process"
   ]
  },
  {
   "cell_type": "markdown",
   "id": "904da68e",
   "metadata": {},
   "source": [
    "The general methodology to build a neural network is:\n",
    "- Define the neural network structure\n",
    "    - No. of inputs\n",
    "    - No. of hidden units\n",
    "    - etc.\n",
    "- Initialize the model's parameters\n",
    "- Loop\n",
    "    - Implement forward propagation\n",
    "        - Calculate the perceptron output\n",
    "    - Implement backward propagation\n",
    "        - To get the required corrections for the paramters\n",
    "    - Update parameters\n",
    "- Make predictions"
   ]
  },
  {
   "cell_type": "markdown",
   "id": "52754f80",
   "metadata": {},
   "source": [
    "#### **Dataset**"
   ]
  },
  {
   "cell_type": "code",
   "execution_count": 3,
   "id": "6a1d548d",
   "metadata": {},
   "outputs": [],
   "source": [
    "m = 30\n",
    "\n",
    "X, y = make_regression(\n",
    "    n_samples = 30,\n",
    "    n_features = 1,\n",
    "    noise = 20,\n",
    "    random_state = 1\n",
    ")\n",
    "\n",
    "X = X.reshape((1, m))\n",
    "y = y.reshape((1, m))"
   ]
  },
  {
   "cell_type": "code",
   "execution_count": 4,
   "id": "f40cedb9",
   "metadata": {},
   "outputs": [
    {
     "data": {
      "text/plain": [
       "((1, 30), (1, 30))"
      ]
     },
     "execution_count": 4,
     "metadata": {},
     "output_type": "execute_result"
    }
   ],
   "source": [
    "X.shape, y.shape"
   ]
  },
  {
   "cell_type": "code",
   "execution_count": 5,
   "id": "ea1f647b",
   "metadata": {},
   "outputs": [
    {
     "data": {
      "text/plain": [
       "Text(0, 0.5, '$y$')"
      ]
     },
     "execution_count": 5,
     "metadata": {},
     "output_type": "execute_result"
    },
    {
     "data": {
      "image/png": "[encoded data removed]",
      "text/plain": [
       "<Figure size 640x480 with 1 Axes>"
      ]
     },
     "metadata": {},
     "output_type": "display_data"
    }
   ],
   "source": [
    "plt.scatter(X, y, c = 'black')\n",
    "plt.xlabel('$x$')\n",
    "plt.ylabel('$y$')"
   ]
  },
  {
   "cell_type": "markdown",
   "id": "eb47110c",
   "metadata": {},
   "source": [
    "### **Implementation of neural network model for linear regression**"
   ]
  },
  {
   "cell_type": "markdown",
   "id": "2ab8a015",
   "metadata": {},
   "source": [
    "#### **Defining the neural network structure**"
   ]
  },
  {
   "cell_type": "code",
   "execution_count": 6,
   "id": "f550bf12",
   "metadata": {},
   "outputs": [],
   "source": [
    "def layer_sizes(X, y):\n",
    "    return X.shape[0], y.shape[0]"
   ]
  },
  {
   "cell_type": "code",
   "execution_count": 7,
   "id": "5677ed82",
   "metadata": {},
   "outputs": [
    {
     "data": {
      "text/plain": [
       "(1, 1)"
      ]
     },
     "execution_count": 7,
     "metadata": {},
     "output_type": "execute_result"
    }
   ],
   "source": [
    "n_x, n_y = layer_sizes(X, y)\n",
    "n_x, n_y"
   ]
  },
  {
   "cell_type": "code",
   "execution_count": 8,
   "id": "f5c9bc4b",
   "metadata": {},
   "outputs": [
    {
     "name": "stdout",
     "output_type": "stream",
     "text": [
      "\u001b[92m All tests passed\n"
     ]
    }
   ],
   "source": [
    "w3_unittest.test_layer_sizes(layer_sizes)"
   ]
  },
  {
   "cell_type": "markdown",
   "id": "2d3bc362",
   "metadata": {},
   "source": [
    "#### **Initialize model parameters**\n",
    "\n",
    "- Initialize the weights matrix with random values.\n",
    "    - `np.random.randn(a,b) * 0.01` to randomly initialize a matrix of shape (a,b).\n",
    "- Initialize the bias vector as zeros.\n",
    "    - `np.zeros((a,b))` to initialize a matrix of shape (a,b) with zeros."
   ]
  },
  {
   "cell_type": "code",
   "execution_count": 9,
   "id": "a0abbb7b",
   "metadata": {},
   "outputs": [],
   "source": [
    "def initialize_params(n_x, n_y):\n",
    "    W = np.random.randn(n_y, n_x) * 0.01\n",
    "    b = np.zeros((n_y, 1))\n",
    "    \n",
    "    assert (W.shape == (n_y, n_x))\n",
    "    assert (b.shape == (n_y, 1))\n",
    "    \n",
    "    params = {\n",
    "        'W': W,\n",
    "        'b': b\n",
    "    }\n",
    "    return params"
   ]
  },
  {
   "cell_type": "code",
   "execution_count": 10,
   "id": "376db07b",
   "metadata": {},
   "outputs": [
    {
     "data": {
      "text/plain": [
       "(array([[0.01788628]]), array([[0.]]))"
      ]
     },
     "execution_count": 10,
     "metadata": {},
     "output_type": "execute_result"
    }
   ],
   "source": [
    "params = initialize_params(n_x, n_y)\n",
    "params['W'], params['b']"
   ]
  },
  {
   "cell_type": "code",
   "execution_count": 11,
   "id": "986d7560",
   "metadata": {},
   "outputs": [
    {
     "name": "stdout",
     "output_type": "stream",
     "text": [
      "\u001b[92m All tests passed\n"
     ]
    }
   ],
   "source": [
    "w3_unittest.test_initialize_parameters(initialize_params)"
   ]
  },
  {
   "cell_type": "markdown",
   "id": "dcbb2401",
   "metadata": {},
   "source": [
    "#### **The Loop**\n",
    "\n",
    "- Retrieve each parameter from the dictionary `params`\n",
    "- Implement forward propagation"
   ]
  },
  {
   "cell_type": "code",
   "execution_count": 12,
   "id": "10ac57c2",
   "metadata": {},
   "outputs": [],
   "source": [
    "def forward_propagation(X, params):\n",
    "    W = params['W']\n",
    "    b = params['b']\n",
    "    \n",
    "    Z = np.dot(W, X) + b\n",
    "    Y_hat = Z\n",
    "    assert (Y_hat.shape == (n_y, X.shape[1]))\n",
    "    \n",
    "    return Y_hat"
   ]
  },
  {
   "cell_type": "code",
   "execution_count": 13,
   "id": "960ca79e",
   "metadata": {},
   "outputs": [
    {
     "data": {
      "text/plain": [
       "array([[ 0.00570642, -0.01919142,  0.01547893, -0.0030841 ,  0.02047485,\n",
       "         0.00898776, -0.04116598, -0.01222935, -0.00686931, -0.01570163,\n",
       "        -0.03684826, -0.01968599, -0.01967297,  0.02027892,  0.0312082 ,\n",
       "        -0.00219805, -0.01673744,  0.0290535 ,  0.02615168,  0.01612611,\n",
       "        -0.01361516,  0.00948609, -0.00944703, -0.00479152,  0.0104244 ,\n",
       "         0.00075505,  0.01611297, -0.00446031, -0.01094205, -0.00576685]])"
      ]
     },
     "execution_count": 13,
     "metadata": {},
     "output_type": "execute_result"
    }
   ],
   "source": [
    "Y_hat = forward_propagation(X, params)\n",
    "Y_hat"
   ]
  },
  {
   "cell_type": "code",
   "execution_count": 14,
   "id": "a7604736",
   "metadata": {},
   "outputs": [
    {
     "name": "stdout",
     "output_type": "stream",
     "text": [
      "\u001b[92m All tests passed\n"
     ]
    }
   ],
   "source": [
    "w3_unittest.test_forward_propagation(forward_propagation)"
   ]
  },
  {
   "cell_type": "markdown",
   "id": "8307397b",
   "metadata": {},
   "source": [
    "Define a cost function which will be used to train the model\n",
    "\n",
    "$$\\mathcal{L}\\left(w, b\\right)  = \\frac{1}{2m}\\sum_{i=1}^{m} \\left(\\hat{y}^{(i)} - y^{(i)}\\right)^2$$"
   ]
  },
  {
   "cell_type": "code",
   "execution_count": 29,
   "id": "f5148ddc",
   "metadata": {},
   "outputs": [],
   "source": [
    "def compute_cost(Y_hat, Y):\n",
    "    m = Y.shape[1]\n",
    "    cost = np.sum((Y_hat - Y)**2)/(2*m)\n",
    "    \n",
    "    return cost"
   ]
  },
  {
   "cell_type": "code",
   "execution_count": 16,
   "id": "6aec2d7a",
   "metadata": {},
   "outputs": [
    {
     "data": {
      "text/plain": [
       "790.2189412622606"
      ]
     },
     "execution_count": 16,
     "metadata": {},
     "output_type": "execute_result"
    }
   ],
   "source": [
    "compute_cost(Y_hat, y)"
   ]
  },
  {
   "cell_type": "markdown",
   "id": "db4241f0",
   "metadata": {},
   "source": [
    "- We want to minimize the cost, bring it as close as possible to $0$\n",
    "- To achieve this, back propagation needs to be performed\n",
    "    - Right now, we will be using the `train_nn()` function for this"
   ]
  },
  {
   "cell_type": "code",
   "execution_count": 17,
   "id": "fa65663c",
   "metadata": {},
   "outputs": [
    {
     "data": {
      "text/plain": [
       "{'W': array([[43.63366703]]), 'b': array([[0.17926448]])}"
      ]
     },
     "execution_count": 17,
     "metadata": {},
     "output_type": "execute_result"
    }
   ],
   "source": [
    "params = w3_tools.train_nn(params, Y_hat, X, y)\n",
    "params"
   ]
  },
  {
   "cell_type": "markdown",
   "id": "8ec8d9b5",
   "metadata": {},
   "source": [
    "### **Integrate the previous parts and build a NN model**"
   ]
  },
  {
   "cell_type": "code",
   "execution_count": 18,
   "id": "48d676cc",
   "metadata": {},
   "outputs": [],
   "source": [
    "def nn_model(X, y, num_iterations = 10, print_cost = False):\n",
    "    n_x, n_y = layer_sizes(X, y)\n",
    "    params = initialize_params(n_x, n_y)\n",
    "    \n",
    "    for i in range(num_iterations):\n",
    "        Y_hat = forward_propagation(X, params)\n",
    "        cost = compute_cost(Y_hat, y)\n",
    "        \n",
    "        params = w3_tools.train_nn(params, Y_hat, X, y)\n",
    "        \n",
    "        if print_cost:\n",
    "            print(f'Cost after iteration {i}: {cost:.2f}')\n",
    "    \n",
    "    return params"
   ]
  },
  {
   "cell_type": "code",
   "execution_count": 19,
   "id": "f60c507a",
   "metadata": {},
   "outputs": [
    {
     "name": "stdout",
     "output_type": "stream",
     "text": [
      "Cost after iteration 0: 791.43\n",
      "Cost after iteration 1: 176.53\n",
      "Cost after iteration 2: 143.77\n",
      "Cost after iteration 3: 141.43\n",
      "Cost after iteration 4: 141.25\n",
      "Cost after iteration 5: 141.23\n",
      "Cost after iteration 6: 141.23\n",
      "Cost after iteration 7: 141.23\n",
      "Cost after iteration 8: 141.23\n",
      "Cost after iteration 9: 141.23\n",
      "Cost after iteration 10: 141.23\n",
      "Cost after iteration 11: 141.23\n",
      "Cost after iteration 12: 141.23\n",
      "Cost after iteration 13: 141.23\n",
      "Cost after iteration 14: 141.23\n"
     ]
    },
    {
     "data": {
      "text/plain": [
       "{'W': array([[35.71958208]]), 'b': array([[2.2893077]])}"
      ]
     },
     "execution_count": 19,
     "metadata": {},
     "output_type": "execute_result"
    }
   ],
   "source": [
    "params = nn_model(X, y, num_iterations = 15, print_cost = True)\n",
    "W_simple = params['W']\n",
    "b_simple = params['b']\n",
    "\n",
    "params"
   ]
  },
  {
   "cell_type": "code",
   "execution_count": 20,
   "id": "0e518e14",
   "metadata": {
    "scrolled": true
   },
   "outputs": [
    {
     "name": "stdout",
     "output_type": "stream",
     "text": [
      "\u001b[92m All tests passed\n"
     ]
    }
   ],
   "source": [
    "w3_unittest.test_nn_model(nn_model)"
   ]
  },
  {
   "cell_type": "markdown",
   "id": "c820dc4c",
   "metadata": {},
   "source": [
    "#### **Use final params to make predictions**"
   ]
  },
  {
   "cell_type": "code",
   "execution_count": 21,
   "id": "041c66b5",
   "metadata": {},
   "outputs": [
    {
     "data": {
      "image/png": "[encoded data removed]",
      "text/plain": [
       "<Figure size 640x480 with 1 Axes>"
      ]
     },
     "metadata": {},
     "output_type": "display_data"
    }
   ],
   "source": [
    "X_pred = np.array([-0.95, 0.2, 1.5])\n",
    "\n",
    "fig, ax = plt.subplots()\n",
    "plt.scatter(X, y, color = 'black')\n",
    "\n",
    "X_line = np.arange(np.min(X[0, :]), np.max(X[0, :]) * 1.1, 0.1)\n",
    "ax.plot(X_line, W_simple[0, 0] * X_line + b_simple[0, 0], 'r')\n",
    "ax.plot(X_pred, W_simple[0, 0] * X_pred + b_simple[0, 0], 'bo')\n",
    "\n",
    "plt.plot()\n",
    "plt.show()"
   ]
  },
  {
   "cell_type": "markdown",
   "id": "ffaaec0b",
   "metadata": {},
   "source": [
    "### **Multiple Linear Regression**\n",
    "> When the output is dependent on more than one variable"
   ]
  },
  {
   "cell_type": "markdown",
   "id": "460d39d5",
   "metadata": {},
   "source": [
    "#### **Multiple Linear Regression Model**\n",
    "\n",
    "- A simple multiple linear regression model with 2 independent variables ($x_{1}$, $x_{2}$) can be written as\n",
    "\n",
    "$$\\hat{y} = w_1x_1 + w_2x_2 + b = Wx + b\\tag{6}$$"
   ]
  },
  {
   "cell_type": "markdown",
   "id": "516b61c6",
   "metadata": {},
   "source": [
    "#### **Neural Network model with a single perceptron and two input nodes**\n",
    "\n",
    "<img src=\"images/nn_model_linear_regression_multiple.png\" style=\"width:420px;\">\n",
    "\n",
    "- The perceptron output calculation for every training example $x^(i) = \\begin{bmatrix} x^{(i)}_{1} & x^{(i)}_{2} \\end{bmatrix}$ can be written with dot product\n",
    "\n",
    "$$z^{(i)} = w_1x_1^{(i)} + w_2x_2^{(i)} + b = Wx^{(i)} + b\\tag{7}$$"
   ]
  },
  {
   "cell_type": "markdown",
   "id": "a83c3528",
   "metadata": {},
   "source": [
    "#### **Dataset**\n",
    "- Build a linear regression model for a Kaggle dataset [House Prices](https://www.kaggle.com/c/house-prices-advanced-regression-techniques)\n",
    "- We will use 2 fields\n",
    "    - `GrLivArea` in square feet\n",
    "    - `OverallQual` in range 1 to 10\n",
    "    - to predict `SalePrice` in **\\$**"
   ]
  },
  {
   "cell_type": "code",
   "execution_count": 23,
   "id": "bbe7dc41",
   "metadata": {},
   "outputs": [],
   "source": [
    "df = pd.read_csv('data/house_prices_train.csv')"
   ]
  },
  {
   "cell_type": "code",
   "execution_count": 24,
   "id": "f82c1a67",
   "metadata": {
    "scrolled": true
   },
   "outputs": [
    {
     "data": {
      "text/plain": [
       "(      GrLivArea  OverallQual\n",
       " 0          1710            7\n",
       " 1          1262            6\n",
       " 2          1786            7\n",
       " 3          1717            7\n",
       " 4          2198            8\n",
       " ...         ...          ...\n",
       " 1455       1647            6\n",
       " 1456       2073            6\n",
       " 1457       2340            7\n",
       " 1458       1078            5\n",
       " 1459       1256            5\n",
       " \n",
       " [1460 rows x 2 columns],\n",
       " 0       208500\n",
       " 1       181500\n",
       " 2       223500\n",
       " 3       140000\n",
       " 4       250000\n",
       "          ...  \n",
       " 1455    175000\n",
       " 1456    210000\n",
       " 1457    266500\n",
       " 1458    142125\n",
       " 1459    147500\n",
       " Name: SalePrice, Length: 1460, dtype: int64)"
      ]
     },
     "execution_count": 24,
     "metadata": {},
     "output_type": "execute_result"
    }
   ],
   "source": [
    "X_multi = df[['GrLivArea', 'OverallQual']]\n",
    "Y_multi = df['SalePrice']\n",
    "\n",
    "X_multi, Y_multi"
   ]
  },
  {
   "cell_type": "markdown",
   "id": "9600600b",
   "metadata": {},
   "source": [
    "#### **Normalization**\n",
    "\n",
    "- All of the original arrays have different units and scale\n",
    "- To make training of neural network efficient, they must have same scale\n",
    "- In normalization\n",
    "    - We subtract the mean value of the array from each element in the array\n",
    "    - Divide them by standard deviation"
   ]
  },
  {
   "cell_type": "code",
   "execution_count": 25,
   "id": "f17ac732",
   "metadata": {},
   "outputs": [],
   "source": [
    "X_multi_norm = (X_multi - np.mean(X_multi))/np.std(X_multi)\n",
    "Y_multi_norm = (Y_multi - np.mean(Y_multi))/np.std(Y_multi)"
   ]
  },
  {
   "cell_type": "code",
   "execution_count": 26,
   "id": "f227ec81",
   "metadata": {},
   "outputs": [],
   "source": [
    "X_multi_norm = np.array(X_multi_norm).T\n",
    "Y_multi_norm = np.array(Y_multi_norm).reshape((1, len(Y_multi_norm)))"
   ]
  },
  {
   "cell_type": "code",
   "execution_count": 27,
   "id": "53736c13",
   "metadata": {},
   "outputs": [
    {
     "data": {
      "text/plain": [
       "((2, 1460), (1, 1460))"
      ]
     },
     "execution_count": 27,
     "metadata": {},
     "output_type": "execute_result"
    }
   ],
   "source": [
    "X_multi_norm.shape, Y_multi_norm.shape"
   ]
  },
  {
   "cell_type": "code",
   "execution_count": null,
   "id": "c70e91a3",
   "metadata": {},
   "outputs": [],
   "source": [
    "n_x, n_y = layer_sizes(X_multi_norm, Y_multi_norm)\n",
    "n_x, n_y"
   ]
  },
  {
   "cell_type": "code",
   "execution_count": null,
   "id": "19cf018b",
   "metadata": {},
   "outputs": [],
   "source": [
    "params_m = initialize_params(n_x, n_y)\n",
    "params_m"
   ]
  },
  {
   "cell_type": "code",
   "execution_count": null,
   "id": "06a8e6da",
   "metadata": {},
   "outputs": [],
   "source": [
    "Y_hat = forward_propagation(X_multi_norm, params_m)\n",
    "Y_hat"
   ]
  },
  {
   "cell_type": "code",
   "execution_count": null,
   "id": "4fdb41e2",
   "metadata": {},
   "outputs": [],
   "source": [
    "cost = compute_cost(Y_hat, Y_multi_norm)\n",
    "cost"
   ]
  },
  {
   "cell_type": "code",
   "execution_count": null,
   "id": "0a2679e4",
   "metadata": {},
   "outputs": [],
   "source": []
  },
  {
   "cell_type": "code",
   "execution_count": null,
   "id": "b6d4b28f",
   "metadata": {},
   "outputs": [],
   "source": []
  },
  {
   "cell_type": "markdown",
   "id": "3aad42bf",
   "metadata": {},
   "source": [
    "#### **Performance of Neural Network model for Multiple Linear Regression**"
   ]
  },
  {
   "cell_type": "code",
   "execution_count": 30,
   "id": "08aefb77",
   "metadata": {},
   "outputs": [
    {
     "name": "stdout",
     "output_type": "stream",
     "text": [
      "Y_hat: [[5.58617662 5.59156299 5.5865191  ... 5.58901559 5.59813903 5.59894115]], Y: [[ 0.34727322  0.00728832  0.53615372 ...  1.07761115 -0.48852299\n",
      "  -0.42084081]]\n",
      "Cost after iteration 0: 16.14\n",
      "Y_hat: [[-1997691.79209935 -2000334.49784652 -1997693.06287432 ...\n",
      "  -1997702.32615503 -2002981.61786464 -2002984.59415338]], Y: [[ 0.34727322  0.00728832  0.53615372 ...  1.07761115 -0.48852299\n",
      "  -0.42084081]]\n",
      "Cost after iteration 1: 2000157756173.17\n",
      "Y_hat: [[7.14328669e+11 7.15273380e+11 7.14329168e+11 ... 7.14332802e+11\n",
      "  7.16219821e+11 7.16220989e+11]], Y: [[ 0.34727322  0.00728832  0.53615372 ...  1.07761115 -0.48852299\n",
      "  -0.42084081]]\n",
      "Cost after iteration 2: 255742734260249376587776.00\n",
      "Y_hat: [[-2.55427473e+17 -2.55765280e+17 -2.55427652e+17 ... -2.55428951e+17\n",
      "  -2.56103706e+17 -2.56104123e+17]], Y: [[ 0.34727322  0.00728832  0.53615372 ...  1.07761115 -0.48852299\n",
      "  -0.42084081]]\n",
      "Cost after iteration 3: 32699593782068762751531438944813056.00\n",
      "Y_hat: [[9.13349792e+22 9.14557711e+22 9.13350430e+22 ... 9.13355076e+22\n",
      "  9.15767843e+22 9.15769336e+22]], Y: [[ 0.34727322  0.00728832  0.53615372 ...  1.07761115 -0.48852299\n",
      "  -0.42084081]]\n",
      "Cost after iteration 4: 4181011971289107673268894059241626836087603200.00\n",
      "Y_hat: [[-3.26592841e+28 -3.27024765e+28 -3.26593069e+28 ... -3.26594731e+28\n",
      "  -3.27457481e+28 -3.27458014e+28]], Y: [[ 0.34727322  0.00728832  0.53615372 ...  1.07761115 -0.48852299\n",
      "  -0.42084081]]\n",
      "Cost after iteration 5: 534589549355462003602456501255578101545450609448612528128.00\n",
      "Y_hat: [[1.16782075e+34 1.16936521e+34 1.16782157e+34 ... 1.16782751e+34\n",
      "  1.17091250e+34 1.17091441e+34]], Y: [[ 0.34727322  0.00728832  0.53615372 ...  1.07761115 -0.48852299\n",
      "  -0.42084081]]\n",
      "Cost after iteration 6: 68353304951662572229988901036934134752710383317245229610896495476736.00\n",
      "Y_hat: [[-4.17585793e+39 -4.18138056e+39 -4.17586084e+39 ... -4.17588208e+39\n",
      "  -4.18691332e+39 -4.18692014e+39]], Y: [[ 0.34727322  0.00728832  0.53615372 ...  1.07761115 -0.48852299\n",
      "  -0.42084081]]\n",
      "Cost after iteration 7: 8739741177971155831055281133900781940415486165455049284681284187215375236071424.00\n",
      "Y_hat: [[1.49319058e+45 1.49516535e+45 1.49319162e+45 ... 1.49319922e+45\n",
      "  1.49714373e+45 1.49714617e+45]], Y: [[ 0.34727322  0.00728832  0.53615372 ...  1.07761115 -0.48852299\n",
      "  -0.42084081]]\n",
      "Cost after iteration 8: 1117474508539717664607597357107625229463031156279477066950885887016007236765387135672909824.00\n",
      "Y_hat: [[-5.33930547e+50 -5.34636678e+50 -5.33930919e+50 ... -5.33933635e+50\n",
      "  -5.35344103e+50 -5.35344976e+50]], Y: [[ 0.34727322  0.00728832  0.53615372 ...  1.07761115 -0.48852299\n",
      "  -0.42084081]]\n",
      "Cost after iteration 9: 142881722903145416720040372115415052819352116051163898352830848516642119279215012376914901086721015808.00\n",
      "Y_hat: [[1.90921261e+56 1.91173757e+56 1.90921394e+56 ... 1.90922366e+56\n",
      "  1.91426716e+56 1.91427028e+56]], Y: [[ 0.34727322  0.00728832  0.53615372 ...  1.07761115 -0.48852299\n",
      "  -0.42084081]]\n",
      "Cost after iteration 10: 18269040218598985392817021032668628566555258910390516271423992767316913580227592071490591868592756204736679510016.00\n",
      "Y_hat: [[-6.82690440e+61 -6.83593308e+61 -6.82690917e+61 ... -6.82694389e+61\n",
      "  -6.84497831e+61 -6.84498947e+61]], Y: [[ 0.34727322  0.00728832  0.53615372 ...  1.07761115 -0.48852299\n",
      "  -0.42084081]]\n",
      "Cost after iteration 11: 2335902897356787472600155352812279098888745346016852033036695785840351321968057217058158041349190831564872385860112253714432.00\n",
      "Y_hat: [[2.44114372e+67 2.44437216e+67 2.44114542e+67 ... 2.44115784e+67\n",
      "  2.44760653e+67 2.44761052e+67]], Y: [[ 0.34727322  0.00728832  0.53615372 ...  1.07761115 -0.48852299\n",
      "  -0.42084081]]\n",
      "Cost after iteration 12: 298671538328809136736908341467211110260173826632720838269328428455855216568537923652753668410359850867909748169875069288686860512526336.00\n",
      "Y_hat: [[-8.72896747e+72 -8.74051166e+72 -8.72897356e+72 ... -8.72901796e+72\n",
      "  -8.75207700e+72 -8.75209127e+72]], Y: [[ 0.34727322  0.00728832  0.53615372 ...  1.07761115 -0.48852299\n",
      "  -0.42084081]]\n",
      "Cost after iteration 13: 38188525691131059547871002171359964560771051750678120407760990367743413468757909372608716330819644821746119630512623838133446041792211023472623616.00\n",
      "Y_hat: [[3.12127764e+78 3.12540558e+78 3.12127982e+78 ... 3.12129570e+78\n",
      "  3.12954108e+78 3.12954618e+78]], Y: [[ 0.34727322  0.00728832  0.53615372 ...  1.07761115 -0.48852299\n",
      "  -0.42084081]]\n",
      "Cost after iteration 14: 4882833840219014234396852372197184362731594506119798692674262873281269126745557868159950775639805237589738886183497710869896328270010482858363918956338610176.00\n",
      "Y_hat: [[-1.11609697e+84 -1.11757302e+84 -1.11609775e+84 ... -1.11610342e+84\n",
      "  -1.11905178e+84 -1.11905361e+84]], Y: [[ 0.34727322  0.00728832  0.53615372 ...  1.07761115 -0.48852299\n",
      "  -0.42084081]]\n",
      "Cost after iteration 15: 624325393025713364268992925573392593289085698641758485009126365246535871617163945683069267213313966385160843455203344605929754114395154578450437117411712408593497063424.00\n",
      "Y_hat: [[3.99090560e+89 3.99618363e+89 3.99090838e+89 ... 3.99092869e+89\n",
      "  4.00147134e+89 4.00147786e+89]], Y: [[ 0.34727322  0.00728832  0.53615372 ...  1.07761115 -0.48852299\n",
      "  -0.42084081]]\n",
      "Cost after iteration 16: 79827044935698537174860515249657536048272930632684430936029234777245270168522691051496110578854894267984116841892614659500858746708036108004414739912157998228000835147009617821696.00\n",
      "Y_hat: [[-1.42705589e+95 -1.42894319e+95 -1.42705688e+95 ... -1.42706414e+95\n",
      "  -1.43083395e+95 -1.43083628e+95]], Y: [[ 0.34727322  0.00728832  0.53615372 ...  1.07761115 -0.48852299\n",
      "  -0.42084081]]\n",
      "Cost after iteration 17: 10206788277957443918236954394620488701207986990513591894582122109929040551200879059987523039713447419305388015363038582086588111223377148939369804096281155481174269820341191814036677512396800.00\n",
      "Y_hat: [[5.10282305e+100 5.10957161e+100 5.10282661e+100 ... 5.10285257e+100\n",
      "  5.11633254e+100 5.11634088e+100]], Y: [[ 0.34727322  0.00728832  0.53615372 ...  1.07761115 -0.48852299\n",
      "  -0.42084081]]\n",
      "Cost after iteration 18: 1305053031024336723486102071141073728925750511632011673972043064153909650164491049658857838627160322216477900230679249276357819647085514396322818972656667170645173136483745665342455340982575787365367808.00\n",
      "Y_hat: [[-1.82465195e+106 -1.82706508e+106 -1.82465322e+106 ... -1.82466250e+106\n",
      "  -1.82948263e+106 -1.82948561e+106]], Y: [[ 0.34727322  0.00728832  0.53615372 ...  1.07761115 -0.48852299\n",
      "  -0.42084081]]\n",
      "Cost after iteration 19: 166865753203087004134533136682039658387613813381542046775903724029174022019289450602734798031242211944622707477747059065994359930771456156824179126424656767858026582135423811620979068373123982520934575463137804288.00\n",
      "Y_hat: [[6.52453495e+111 6.53316375e+111 6.52453951e+111 ... 6.52457270e+111\n",
      "  6.54180836e+111 6.54181902e+111]], Y: [[ 0.34727322  0.00728832  0.53615372 ...  1.07761115 -0.48852299\n",
      "  -0.42084081]]\n",
      "Cost after iteration 20: 21335669072526924165117759773072063280896235767485346373862615095388604465855959783115602457781009878670731281013287719823803838577523126344666128497932206824909743918785862262005546649893494918140960486540873621766248857600.00\n",
      "Y_hat: [[-2.33302337e+117 -2.33610883e+117 -2.33302500e+117 ... -2.33303686e+117\n",
      "  -2.33919994e+117 -2.33920375e+117]], Y: [[ 0.34727322  0.00728832  0.53615372 ...  1.07761115 -0.48852299\n",
      "  -0.42084081]]\n",
      "Cost after iteration 21: 2728005993047361833391207018098891308986271443167676353800350537666869530094132163805486030245477759481554206152288126891594709606411748287539006018354984183713382266980675840757633071935361521011430557648012748187026109743312482074624.00\n",
      "Y_hat: [[8.34235401e+122 8.35338690e+122 8.34235984e+122 ... 8.34240227e+122\n",
      "  8.36444001e+122 8.36445364e+122]], Y: [[ 0.34727322  0.00728832  0.53615372 ...  1.07761115 -0.48852299\n",
      "  -0.42084081]]\n",
      "Cost after iteration 22: 348806342693283745152538965596507029917746272821696921531406944880133544173765376314905309232765161458219170553087183771349711117575973839019085735878403074046446578908678603300101864432020072170587098677465137972794070544418153360432398732361728.00\n",
      "Y_hat: [[-2.98303358e+128 -2.98697869e+128 -2.98303566e+128 ... -2.98305084e+128\n",
      "  -2.99093102e+128 -2.99093590e+128]], Y: [[ 0.34727322  0.00728832  0.53615372 ...  1.07761115 -0.48852299\n",
      "  -0.42084081]]\n",
      "Cost after iteration 23: 44598826033793132329346250749115027389853197114437195690307330043132925763060822820081262719221036002106638682867806583896624849596886400748819693912511076404899050331454650073710037742676242411026360343836055440330921455105376306538226960050078717740843008.00\n",
      "Y_hat: [[1.06666408e+134 1.06807476e+134 1.06666482e+134 ... 1.06667025e+134\n",
      "  1.06948802e+134 1.06948976e+134]], Y: [[ 0.34727322  0.00728832  0.53615372 ...  1.07761115 -0.48852299\n",
      "  -0.42084081]]\n",
      "Cost after iteration 24: 5702463057965615253033080034693597638187705844645573161386193981736667403994169535610140963112151813238967631677060801132110387118863828892311004223681550959999776337116870665014645273935105464686780258603485947816204068672514004487866100220609199192060110343734558720.00\n",
      "Y_hat: [[-3.81414497e+139 -3.81918923e+139 -3.81414763e+139 ... -3.81416703e+139\n",
      "  -3.82424274e+139 -3.82424897e+139]], Y: [[ 0.34727322  0.00728832  0.53615372 ...  1.07761115 -0.48852299\n",
      "  -0.42084081]]\n",
      "Cost after iteration 25: 729124235306624756744132324210071297620853862595573223649968346842809066361213628145159643836757930719588178743441884194096749276493916669538704575478314428257825391309072582506009855325341664537995062002019293424614964950867041826349240564816381956524058999191277882477085982720.00\n",
      "Y_hat: [[1.36385036e+145 1.36565407e+145 1.36385131e+145 ... 1.36385825e+145\n",
      "  1.36746109e+145 1.36746332e+145]], Y: [[ 0.34727322  0.00728832  0.53615372 ...  1.07761115 -0.48852299\n",
      "  -0.42084081]]\n",
      "Cost after iteration 26: 93226759227990194318296650769441666041977007117257155359007439455495396133424426302190920404468238805680692405755591544860655694227322852186123321970505193785885315710653151320020988856310673731857028431125308652563284289180352813102365615204823694383108252384356085610675265529584560373760.00\n",
      "Y_hat: [[-4.87681464e+150 -4.88326430e+150 -4.87681804e+150 ... -4.87684285e+150\n",
      "  -4.88972578e+150 -4.88973375e+150]], Y: [[ 0.34727322  0.00728832  0.53615372 ...  1.07761115 -0.48852299\n",
      "  -0.42084081]]\n",
      "Cost after iteration 27: 11920092921474047538599136023046675265766070119940126795892255390044115744981594790987204733388686195117672134145539499351566226395166123575156951580630034960228814766615624292476533268515763800043827640750764775630302319436848976637400282587055671531753983660061382269285603217795309060623898926645248.00\n",
      "Y_hat: [[1.74383655e+156 1.74614280e+156 1.74383777e+156 ... 1.74384664e+156\n",
      "  1.74845328e+156 1.74845613e+156]], Y: [[ 0.34727322  0.00728832  0.53615372 ...  1.07761115 -0.48852299\n",
      "  -0.42084081]]\n",
      "Cost after iteration 28: inf\n",
      "Y_hat: [[-6.23555771e+161 -6.24380432e+161 -6.23556206e+161 ... -6.23559378e+161\n",
      "  -6.25206605e+161 -6.25207625e+161]], Y: [[ 0.34727322  0.00728832  0.53615372 ...  1.07761115 -0.48852299\n",
      "  -0.42084081]]\n",
      "Cost after iteration 29: inf\n",
      "Y_hat: [[2.22969176e+167 2.23264056e+167 2.22969332e+167 ... 2.22970466e+167\n",
      "  2.23559477e+167 2.23559841e+167]], Y: [[ 0.34727322  0.00728832  0.53615372 ...  1.07761115 -0.48852299\n",
      "  -0.42084081]]\n",
      "Cost after iteration 30: inf\n",
      "Y_hat: [[-7.97286400e+172 -7.98340823e+172 -7.97286957e+172 ... -7.97291012e+172\n",
      "  -7.99397179e+172 -7.99398482e+172]], Y: [[ 0.34727322  0.00728832  0.53615372 ...  1.07761115 -0.48852299\n",
      "  -0.42084081]]\n",
      "Cost after iteration 31: inf\n",
      "Y_hat: [[2.85091247e+178 2.85468284e+178 2.85091445e+178 ... 2.85092896e+178\n",
      "  2.85846012e+178 2.85846478e+178]], Y: [[ 0.34727322  0.00728832  0.53615372 ...  1.07761115 -0.48852299\n",
      "  -0.42084081]]\n",
      "Cost after iteration 32: inf\n",
      "Y_hat: [[-1.01942061e+184 -1.02076881e+184 -1.01942132e+184 ... -1.01942651e+184\n",
      "  -1.02211948e+184 -1.02212114e+184]], Y: [[ 0.34727322  0.00728832  0.53615372 ...  1.07761115 -0.48852299\n",
      "  -0.42084081]]\n",
      "Cost after iteration 33: inf\n",
      "Y_hat: [[3.64521322e+189 3.65003407e+189 3.64521576e+189 ... 3.64523430e+189\n",
      "  3.65486375e+189 3.65486971e+189]], Y: [[ 0.34727322  0.00728832  0.53615372 ...  1.07761115 -0.48852299\n",
      "  -0.42084081]]\n",
      "Cost after iteration 34: inf\n",
      "Y_hat: [[-1.30344426e+195 -1.30516808e+195 -1.30344517e+195 ... -1.30345180e+195\n",
      "  -1.30689507e+195 -1.30689720e+195]], Y: [[ 0.34727322  0.00728832  0.53615372 ...  1.07761115 -0.48852299\n",
      "  -0.42084081]]\n",
      "Cost after iteration 35: inf\n",
      "Y_hat: [[4.66081634e+200 4.66698034e+200 4.66081959e+200 ... 4.66084330e+200\n",
      "  4.67315563e+200 4.67316325e+200]], Y: [[ 0.34727322  0.00728832  0.53615372 ...  1.07761115 -0.48852299\n",
      "  -0.42084081]]\n",
      "Cost after iteration 36: inf\n",
      "Y_hat: [[-1.66660053e+206 -1.66880464e+206 -1.66660170e+206 ... -1.66661017e+206\n",
      "  -1.67101278e+206 -1.67101551e+206]], Y: [[ 0.34727322  0.00728832  0.53615372 ...  1.07761115 -0.48852299\n",
      "  -0.42084081]]\n",
      "Cost after iteration 37: inf\n",
      "Y_hat: [[5.95937951e+211 5.96726088e+211 5.95938367e+211 ... 5.95941398e+211\n",
      "  5.97515669e+211 5.97516643e+211]], Y: [[ 0.34727322  0.00728832  0.53615372 ...  1.07761115 -0.48852299\n",
      "  -0.42084081]]\n",
      "Cost after iteration 38: inf\n",
      "Y_hat: [[-2.13093680e+217 -2.13375500e+217 -2.13093829e+217 ... -2.13094913e+217\n",
      "  -2.13657836e+217 -2.13658184e+217]], Y: [[ 0.34727322  0.00728832  0.53615372 ...  1.07761115 -0.48852299\n",
      "  -0.42084081]]\n",
      "Cost after iteration 39: inf\n",
      "Y_hat: [[7.61973902e+222 7.62981624e+222 7.61974434e+222 ... 7.61978310e+222\n",
      "  7.63991192e+222 7.63992438e+222]], Y: [[ 0.34727322  0.00728832  0.53615372 ...  1.07761115 -0.48852299\n",
      "  -0.42084081]]\n",
      "Cost after iteration 40: inf\n",
      "Y_hat: [[-2.72464311e+228 -2.72824649e+228 -2.72464501e+228 ... -2.72465887e+228\n",
      "  -2.73185647e+228 -2.73186093e+228]], Y: [[ 0.34727322  0.00728832  0.53615372 ...  1.07761115 -0.48852299\n",
      "  -0.42084081]]\n",
      "Cost after iteration 41: inf\n",
      "Y_hat: [[9.74269597e+233 9.75558083e+233 9.74270277e+233 ... 9.74275233e+233\n",
      "  9.76848931e+233 9.76850523e+233]], Y: [[ 0.34727322  0.00728832  0.53615372 ...  1.07761115 -0.48852299\n",
      "  -0.42084081]]\n",
      "Cost after iteration 42: inf\n",
      "Y_hat: [[-3.48376360e+239 -3.48837093e+239 -3.48376603e+239 ... -3.48378375e+239\n",
      "  -3.49298670e+239 -3.49299239e+239]], Y: [[ 0.34727322  0.00728832  0.53615372 ...  1.07761115 -0.48852299\n",
      "  -0.42084081]]\n",
      "Cost after iteration 43: inf\n",
      "Y_hat: [[1.24571359e+245 1.24736107e+245 1.24571446e+245 ... 1.24572080e+245\n",
      "  1.24901156e+245 1.24901360e+245]], Y: [[ 0.34727322  0.00728832  0.53615372 ...  1.07761115 -0.48852299\n",
      "  -0.42084081]]\n",
      "Cost after iteration 44: inf\n",
      "Y_hat: [[-4.45438479e+250 -4.46027578e+250 -4.45438790e+250 ... -4.45441056e+250\n",
      "  -4.46617756e+250 -4.46618485e+250]], Y: [[ 0.34727322  0.00728832  0.53615372 ...  1.07761115 -0.48852299\n",
      "  -0.42084081]]\n",
      "Cost after iteration 45: inf\n",
      "Y_hat: [[1.59278537e+256 1.59489185e+256 1.59278648e+256 ... 1.59279458e+256\n",
      "  1.59700219e+256 1.59700480e+256]], Y: [[ 0.34727322  0.00728832  0.53615372 ...  1.07761115 -0.48852299\n",
      "  -0.42084081]]\n",
      "Cost after iteration 46: inf\n",
      "Y_hat: [[-5.69543348e+261 -5.70296578e+261 -5.69543746e+261 ... -5.69546643e+261\n",
      "  -5.71051188e+261 -5.71052118e+261]], Y: [[ 0.34727322  0.00728832  0.53615372 ...  1.07761115 -0.48852299\n",
      "  -0.42084081]]\n",
      "Cost after iteration 47: inf\n",
      "Y_hat: [[2.03655578e+267 2.03924916e+267 2.03655721e+267 ... 2.03656757e+267\n",
      "  2.04194747e+267 2.04195080e+267]], Y: [[ 0.34727322  0.00728832  0.53615372 ...  1.07761115 -0.48852299\n",
      "  -0.42084081]]\n",
      "Cost after iteration 48: inf\n",
      "Y_hat: [[-7.28225425e+272 -7.29188513e+272 -7.28225933e+272 ... -7.28229637e+272\n",
      "  -7.30153368e+272 -7.30154558e+272]], Y: [[ 0.34727322  0.00728832  0.53615372 ...  1.07761115 -0.48852299\n",
      "  -0.42084081]]\n",
      "Cost after iteration 49: inf\n",
      "Y_hat: [[2.60396633e+278 2.60741011e+278 2.60396815e+278 ... 2.60398139e+278\n",
      "  2.61086021e+278 2.61086446e+278]], Y: [[ 0.34727322  0.00728832  0.53615372 ...  1.07761115 -0.48852299\n",
      "  -0.42084081]]\n",
      "Cost after iteration 50: inf\n",
      "Y_hat: [[-9.31118361e+283 -9.32349779e+283 -9.31119011e+283 ... -9.31123748e+283\n",
      "  -9.33583454e+283 -9.33584976e+283]], Y: [[ 0.34727322  0.00728832  0.53615372 ...  1.07761115 -0.48852299\n",
      "  -0.42084081]]\n",
      "Cost after iteration 51: inf\n",
      "Y_hat: [[3.32946472e+289 3.33386799e+289 3.32946705e+289 ... 3.32948398e+289\n",
      "  3.33827933e+289 3.33828477e+289]], Y: [[ 0.34727322  0.00728832  0.53615372 ...  1.07761115 -0.48852299\n",
      "  -0.42084081]]\n",
      "Cost after iteration 52: inf\n",
      "Y_hat: [[-1.19053987e+295 -1.19211438e+295 -1.19054070e+295 ... -1.19054676e+295\n",
      "  -1.19369177e+295 -1.19369372e+295]], Y: [[ 0.34727322  0.00728832  0.53615372 ...  1.07761115 -0.48852299\n",
      "  -0.42084081]]\n",
      "Cost after iteration 53: inf\n",
      "Y_hat: [[4.25709627e+300 4.26272634e+300 4.25709924e+300 ... 4.25712089e+300\n",
      "  4.26836673e+300 4.26837369e+300]], Y: [[ 0.34727322  0.00728832  0.53615372 ...  1.07761115 -0.48852299\n",
      "  -0.42084081]]\n",
      "Cost after iteration 54: inf\n",
      "Y_hat: [[-1.52223954e+306 -1.52425272e+306 -1.52224060e+306 ... -1.52224834e+306\n",
      "  -1.52626960e+306 -1.52627208e+306]], Y: [[ 0.34727322  0.00728832  0.53615372 ...  1.07761115 -0.48852299\n",
      "  -0.42084081]]\n",
      "Cost after iteration 55: inf\n",
      "Y_hat: [[inf inf inf ... inf inf inf]], Y: [[ 0.34727322  0.00728832  0.53615372 ...  1.07761115 -0.48852299\n",
      "  -0.42084081]]\n",
      "Cost after iteration 56: nan\n",
      "Y_hat: [[nan nan nan ... nan nan nan]], Y: [[ 0.34727322  0.00728832  0.53615372 ...  1.07761115 -0.48852299\n",
      "  -0.42084081]]\n",
      "Cost after iteration 57: nan\n",
      "Y_hat: [[nan nan nan ... nan nan nan]], Y: [[ 0.34727322  0.00728832  0.53615372 ...  1.07761115 -0.48852299\n",
      "  -0.42084081]]\n",
      "Cost after iteration 58: nan\n",
      "Y_hat: [[nan nan nan ... nan nan nan]], Y: [[ 0.34727322  0.00728832  0.53615372 ...  1.07761115 -0.48852299\n",
      "  -0.42084081]]\n",
      "Cost after iteration 59: nan\n",
      "Y_hat: [[nan nan nan ... nan nan nan]], Y: [[ 0.34727322  0.00728832  0.53615372 ...  1.07761115 -0.48852299\n",
      "  -0.42084081]]\n",
      "Cost after iteration 60: nan\n",
      "Y_hat: [[nan nan nan ... nan nan nan]], Y: [[ 0.34727322  0.00728832  0.53615372 ...  1.07761115 -0.48852299\n",
      "  -0.42084081]]\n",
      "Cost after iteration 61: nan\n",
      "Y_hat: [[nan nan nan ... nan nan nan]], Y: [[ 0.34727322  0.00728832  0.53615372 ...  1.07761115 -0.48852299\n",
      "  -0.42084081]]\n",
      "Cost after iteration 62: nan\n",
      "Y_hat: [[nan nan nan ... nan nan nan]], Y: [[ 0.34727322  0.00728832  0.53615372 ...  1.07761115 -0.48852299\n",
      "  -0.42084081]]\n",
      "Cost after iteration 63: nan\n",
      "Y_hat: [[nan nan nan ... nan nan nan]], Y: [[ 0.34727322  0.00728832  0.53615372 ...  1.07761115 -0.48852299\n",
      "  -0.42084081]]\n",
      "Cost after iteration 64: nan\n",
      "Y_hat: [[nan nan nan ... nan nan nan]], Y: [[ 0.34727322  0.00728832  0.53615372 ...  1.07761115 -0.48852299\n",
      "  -0.42084081]]\n",
      "Cost after iteration 65: nan\n",
      "Y_hat: [[nan nan nan ... nan nan nan]], Y: [[ 0.34727322  0.00728832  0.53615372 ...  1.07761115 -0.48852299\n",
      "  -0.42084081]]\n",
      "Cost after iteration 66: nan\n",
      "Y_hat: [[nan nan nan ... nan nan nan]], Y: [[ 0.34727322  0.00728832  0.53615372 ...  1.07761115 -0.48852299\n",
      "  -0.42084081]]\n",
      "Cost after iteration 67: nan\n",
      "Y_hat: [[nan nan nan ... nan nan nan]], Y: [[ 0.34727322  0.00728832  0.53615372 ...  1.07761115 -0.48852299\n",
      "  -0.42084081]]\n",
      "Cost after iteration 68: nan\n",
      "Y_hat: [[nan nan nan ... nan nan nan]], Y: [[ 0.34727322  0.00728832  0.53615372 ...  1.07761115 -0.48852299\n",
      "  -0.42084081]]\n",
      "Cost after iteration 69: nan\n",
      "Y_hat: [[nan nan nan ... nan nan nan]], Y: [[ 0.34727322  0.00728832  0.53615372 ...  1.07761115 -0.48852299\n",
      "  -0.42084081]]\n",
      "Cost after iteration 70: nan\n",
      "Y_hat: [[nan nan nan ... nan nan nan]], Y: [[ 0.34727322  0.00728832  0.53615372 ...  1.07761115 -0.48852299\n",
      "  -0.42084081]]\n",
      "Cost after iteration 71: nan\n",
      "Y_hat: [[nan nan nan ... nan nan nan]], Y: [[ 0.34727322  0.00728832  0.53615372 ...  1.07761115 -0.48852299\n",
      "  -0.42084081]]\n",
      "Cost after iteration 72: nan\n",
      "Y_hat: [[nan nan nan ... nan nan nan]], Y: [[ 0.34727322  0.00728832  0.53615372 ...  1.07761115 -0.48852299\n",
      "  -0.42084081]]\n",
      "Cost after iteration 73: nan\n",
      "Y_hat: [[nan nan nan ... nan nan nan]], Y: [[ 0.34727322  0.00728832  0.53615372 ...  1.07761115 -0.48852299\n",
      "  -0.42084081]]\n",
      "Cost after iteration 74: nan\n",
      "Y_hat: [[nan nan nan ... nan nan nan]], Y: [[ 0.34727322  0.00728832  0.53615372 ...  1.07761115 -0.48852299\n",
      "  -0.42084081]]\n",
      "Cost after iteration 75: nan\n",
      "Y_hat: [[nan nan nan ... nan nan nan]], Y: [[ 0.34727322  0.00728832  0.53615372 ...  1.07761115 -0.48852299\n",
      "  -0.42084081]]\n",
      "Cost after iteration 76: nan\n",
      "Y_hat: [[nan nan nan ... nan nan nan]], Y: [[ 0.34727322  0.00728832  0.53615372 ...  1.07761115 -0.48852299\n",
      "  -0.42084081]]\n",
      "Cost after iteration 77: nan\n",
      "Y_hat: [[nan nan nan ... nan nan nan]], Y: [[ 0.34727322  0.00728832  0.53615372 ...  1.07761115 -0.48852299\n",
      "  -0.42084081]]\n",
      "Cost after iteration 78: nan\n",
      "Y_hat: [[nan nan nan ... nan nan nan]], Y: [[ 0.34727322  0.00728832  0.53615372 ...  1.07761115 -0.48852299\n",
      "  -0.42084081]]\n",
      "Cost after iteration 79: nan\n",
      "Y_hat: [[nan nan nan ... nan nan nan]], Y: [[ 0.34727322  0.00728832  0.53615372 ...  1.07761115 -0.48852299\n",
      "  -0.42084081]]\n",
      "Cost after iteration 80: nan\n",
      "Y_hat: [[nan nan nan ... nan nan nan]], Y: [[ 0.34727322  0.00728832  0.53615372 ...  1.07761115 -0.48852299\n",
      "  -0.42084081]]\n",
      "Cost after iteration 81: nan\n",
      "Y_hat: [[nan nan nan ... nan nan nan]], Y: [[ 0.34727322  0.00728832  0.53615372 ...  1.07761115 -0.48852299\n",
      "  -0.42084081]]\n",
      "Cost after iteration 82: nan\n",
      "Y_hat: [[nan nan nan ... nan nan nan]], Y: [[ 0.34727322  0.00728832  0.53615372 ...  1.07761115 -0.48852299\n",
      "  -0.42084081]]\n",
      "Cost after iteration 83: nan\n",
      "Y_hat: [[nan nan nan ... nan nan nan]], Y: [[ 0.34727322  0.00728832  0.53615372 ...  1.07761115 -0.48852299\n",
      "  -0.42084081]]\n",
      "Cost after iteration 84: nan\n",
      "Y_hat: [[nan nan nan ... nan nan nan]], Y: [[ 0.34727322  0.00728832  0.53615372 ...  1.07761115 -0.48852299\n",
      "  -0.42084081]]\n",
      "Cost after iteration 85: nan\n",
      "Y_hat: [[nan nan nan ... nan nan nan]], Y: [[ 0.34727322  0.00728832  0.53615372 ...  1.07761115 -0.48852299\n",
      "  -0.42084081]]\n",
      "Cost after iteration 86: nan\n",
      "Y_hat: [[nan nan nan ... nan nan nan]], Y: [[ 0.34727322  0.00728832  0.53615372 ...  1.07761115 -0.48852299\n",
      "  -0.42084081]]\n",
      "Cost after iteration 87: nan\n",
      "Y_hat: [[nan nan nan ... nan nan nan]], Y: [[ 0.34727322  0.00728832  0.53615372 ...  1.07761115 -0.48852299\n",
      "  -0.42084081]]\n",
      "Cost after iteration 88: nan\n",
      "Y_hat: [[nan nan nan ... nan nan nan]], Y: [[ 0.34727322  0.00728832  0.53615372 ...  1.07761115 -0.48852299\n",
      "  -0.42084081]]\n",
      "Cost after iteration 89: nan\n",
      "Y_hat: [[nan nan nan ... nan nan nan]], Y: [[ 0.34727322  0.00728832  0.53615372 ...  1.07761115 -0.48852299\n",
      "  -0.42084081]]\n",
      "Cost after iteration 90: nan\n",
      "Y_hat: [[nan nan nan ... nan nan nan]], Y: [[ 0.34727322  0.00728832  0.53615372 ...  1.07761115 -0.48852299\n",
      "  -0.42084081]]\n",
      "Cost after iteration 91: nan\n",
      "Y_hat: [[nan nan nan ... nan nan nan]], Y: [[ 0.34727322  0.00728832  0.53615372 ...  1.07761115 -0.48852299\n",
      "  -0.42084081]]\n",
      "Cost after iteration 92: nan\n",
      "Y_hat: [[nan nan nan ... nan nan nan]], Y: [[ 0.34727322  0.00728832  0.53615372 ...  1.07761115 -0.48852299\n",
      "  -0.42084081]]\n",
      "Cost after iteration 93: nan\n",
      "Y_hat: [[nan nan nan ... nan nan nan]], Y: [[ 0.34727322  0.00728832  0.53615372 ...  1.07761115 -0.48852299\n",
      "  -0.42084081]]\n",
      "Cost after iteration 94: nan\n",
      "Y_hat: [[nan nan nan ... nan nan nan]], Y: [[ 0.34727322  0.00728832  0.53615372 ...  1.07761115 -0.48852299\n",
      "  -0.42084081]]\n",
      "Cost after iteration 95: nan\n",
      "Y_hat: [[nan nan nan ... nan nan nan]], Y: [[ 0.34727322  0.00728832  0.53615372 ...  1.07761115 -0.48852299\n",
      "  -0.42084081]]\n",
      "Cost after iteration 96: nan\n",
      "Y_hat: [[nan nan nan ... nan nan nan]], Y: [[ 0.34727322  0.00728832  0.53615372 ...  1.07761115 -0.48852299\n",
      "  -0.42084081]]\n",
      "Cost after iteration 97: nan\n",
      "Y_hat: [[nan nan nan ... nan nan nan]], Y: [[ 0.34727322  0.00728832  0.53615372 ...  1.07761115 -0.48852299\n",
      "  -0.42084081]]\n",
      "Cost after iteration 98: nan\n",
      "Y_hat: [[nan nan nan ... nan nan nan]], Y: [[ 0.34727322  0.00728832  0.53615372 ...  1.07761115 -0.48852299\n",
      "  -0.42084081]]\n",
      "Cost after iteration 99: nan\n"
     ]
    },
    {
     "name": "stderr",
     "output_type": "stream",
     "text": [
      "/tmp/ipykernel_16579/1841965285.py:4: RuntimeWarning: overflow encountered in square\n",
      "  cost = np.sum((Y_hat - Y)**2)/(2*m)\n"
     ]
    },
    {
     "data": {
      "text/plain": [
       "{'W': array([[nan, nan]]), 'b': array([[nan]])}"
      ]
     },
     "execution_count": 30,
     "metadata": {},
     "output_type": "execute_result"
    }
   ],
   "source": [
    "params_multi = nn_model(X_multi_norm, Y_multi_norm, num_iterations = 100, print_cost = True)\n",
    "W_multi = params_multi['W']\n",
    "b_multi = params_multi['b']\n",
    "\n",
    "params_multi"
   ]
  },
  {
   "cell_type": "code",
   "execution_count": null,
   "id": "d34008d7",
   "metadata": {},
   "outputs": [],
   "source": []
  }
 ],
 "metadata": {
  "kernelspec": {
   "display_name": "Python 3 (ipykernel)",
   "language": "python",
   "name": "python3"
  },
  "language_info": {
   "codemirror_mode": {
    "name": "ipython",
    "version": 3
   },
   "file_extension": ".py",
   "mimetype": "text/x-python",
   "name": "python",
   "nbconvert_exporter": "python",
   "pygments_lexer": "ipython3",
   "version": "3.10.11"
  }
 },
 "nbformat": 4,
 "nbformat_minor": 5
}
